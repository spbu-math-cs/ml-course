{
 "cells": [
  {
   "cell_type": "markdown",
   "metadata": {
    "slideshow": {
     "slide_type": "slide"
    }
   },
   "source": [
    "<center><img src=\"./images/logo_fmkn.png\" width=300 style=\"display: inline-block;\"></center> \n",
    "\n",
    "## Машинное обучение 2\n",
    "### Семинар 10. Рекомендательные системы\n",
    "\n",
    "<br />\n",
    "<br />\n",
    "21 апреля 2022"
   ]
  },
  {
   "cell_type": "markdown",
   "metadata": {
    "_cell_guid": "989ca8ad-c205-4c89-95f5-0678f63e90c1",
    "_uuid": "9c02125458024687b9bc5e80309c0d73ad3bd822",
    "id": "R3ypZSWz0J0L",
    "slideshow": {
     "slide_type": "subslide"
    }
   },
   "source": [
    "### Рекомендательные системы"
   ]
  },
  {
   "cell_type": "code",
   "execution_count": 1,
   "metadata": {
    "_cell_guid": "719f3966-e6fd-49c8-9f60-7bd741542450",
    "_uuid": "b61cd3125a7f8f991fc1bda85ae3cd26f74090ae",
    "id": "EmU02Zuw0J0S",
    "slideshow": {
     "slide_type": "subslide"
    }
   },
   "outputs": [],
   "source": [
    "import numpy as np\n",
    "import scipy\n",
    "import pandas as pd\n",
    "import math\n",
    "import random\n",
    "import sklearn\n",
    "\n",
    "from nltk.corpus import stopwords\n",
    "from scipy.sparse import csr_matrix\n",
    "from sklearn.model_selection import train_test_split\n",
    "from sklearn.feature_extraction.text import TfidfVectorizer, CountVectorizer\n",
    "from sklearn.metrics.pairwise import cosine_similarity\n",
    "from scipy.sparse.linalg import svds\n",
    "from sklearn.preprocessing import MinMaxScaler\n",
    "\n",
    "import matplotlib.pyplot as plt"
   ]
  },
  {
   "cell_type": "code",
   "execution_count": 2,
   "metadata": {
    "colab": {
     "base_uri": "https://localhost:8080/"
    },
    "id": "4Vxm_MEHhZ__",
    "outputId": "1e04a4bd-856d-42ee-c4e8-5c2b6dc3e0f2",
    "slideshow": {
     "slide_type": "subslide"
    }
   },
   "outputs": [
    {
     "name": "stderr",
     "output_type": "stream",
     "text": [
      "[nltk_data] Downloading package stopwords to /home/avalur/nltk_data...\n",
      "[nltk_data]   Package stopwords is already up-to-date!\n"
     ]
    },
    {
     "data": {
      "text/plain": [
       "True"
      ]
     },
     "execution_count": 2,
     "metadata": {},
     "output_type": "execute_result"
    }
   ],
   "source": [
    "import nltk\n",
    "nltk.download('stopwords')"
   ]
  },
  {
   "cell_type": "markdown",
   "metadata": {
    "_cell_guid": "5f5c826d-f3d5-42d3-a7e6-0343a44cdc9f",
    "_uuid": "26f1f70fd978957b26f8884fc5f82bfe9475c666",
    "id": "8LuLtE2U0J0S",
    "slideshow": {
     "slide_type": "subslide"
    }
   },
   "source": [
    "# Loading data: CI&T Deskdrop dataset"
   ]
  },
  {
   "cell_type": "markdown",
   "metadata": {
    "_cell_guid": "3c48b62c-ad3b-4218-8fb2-2f0e86a16edc",
    "_uuid": "650c279eddc846a48274346e045cfb6e1f8895d5",
    "id": "QAO3XC8_0J0S",
    "slideshow": {
     "slide_type": "subslide"
    }
   },
   "source": [
    "*Датасет* [Deskdrop dataset](https://www.kaggle.com/gspmoreira/articles-sharing-reading-from-cit-deskdrop) содержит данные о взаимодействии с внутренней коммуникационной системой (Mar. 2016 - Feb. 2017) from CI&T's Internal Communication platform (DeskDrop). Он содержит информацию про 73 тысячи пар пользователь-статья, общее количество статей — более 3 тысяч.\n",
    "\n",
    "Файлы:\n",
    "- **shared_articles.csv**\n",
    "- **users_interactions.csv**"
   ]
  },
  {
   "cell_type": "markdown",
   "metadata": {
    "_cell_guid": "c9ee29ff-1fee-4dc9-a3cb-e5301c17fded",
    "_uuid": "1e66e976d34d4e28f5a92241b0ea82a2a66363ea",
    "id": "q31RhT5L0J0T",
    "slideshow": {
     "slide_type": "subslide"
    }
   },
   "source": [
    "## shared_articles.csv"
   ]
  },
  {
   "cell_type": "code",
   "execution_count": 3,
   "metadata": {
    "_cell_guid": "e601f966-d03f-4edc-886f-ca3d511a8045",
    "_uuid": "569c301bd128f66f29b4d97c34171e4d1712015a",
    "colab": {
     "base_uri": "https://localhost:8080/",
     "height": 400
    },
    "id": "jr1qu08D0J0T",
    "outputId": "0a42afc3-b3d4-401f-f53d-6544428ab843",
    "slideshow": {
     "slide_type": "subslide"
    }
   },
   "outputs": [
    {
     "data": {
      "text/html": [
       "<div>\n",
       "<style scoped>\n",
       "    .dataframe tbody tr th:only-of-type {\n",
       "        vertical-align: middle;\n",
       "    }\n",
       "\n",
       "    .dataframe tbody tr th {\n",
       "        vertical-align: top;\n",
       "    }\n",
       "\n",
       "    .dataframe thead th {\n",
       "        text-align: right;\n",
       "    }\n",
       "</style>\n",
       "<table border=\"1\" class=\"dataframe\">\n",
       "  <thead>\n",
       "    <tr style=\"text-align: right;\">\n",
       "      <th></th>\n",
       "      <th>timestamp</th>\n",
       "      <th>eventType</th>\n",
       "      <th>contentId</th>\n",
       "      <th>authorPersonId</th>\n",
       "      <th>authorSessionId</th>\n",
       "      <th>authorUserAgent</th>\n",
       "      <th>authorRegion</th>\n",
       "      <th>authorCountry</th>\n",
       "      <th>contentType</th>\n",
       "      <th>url</th>\n",
       "      <th>title</th>\n",
       "      <th>text</th>\n",
       "      <th>lang</th>\n",
       "    </tr>\n",
       "  </thead>\n",
       "  <tbody>\n",
       "    <tr>\n",
       "      <th>0</th>\n",
       "      <td>1459192779</td>\n",
       "      <td>CONTENT REMOVED</td>\n",
       "      <td>-6451309518266745024</td>\n",
       "      <td>4340306774493623681</td>\n",
       "      <td>8940341205206233829</td>\n",
       "      <td>NaN</td>\n",
       "      <td>NaN</td>\n",
       "      <td>NaN</td>\n",
       "      <td>HTML</td>\n",
       "      <td>http://www.nytimes.com/2016/03/28/business/dea...</td>\n",
       "      <td>Ethereum, a Virtual Currency, Enables Transact...</td>\n",
       "      <td>All of this work is still very early. The firs...</td>\n",
       "      <td>en</td>\n",
       "    </tr>\n",
       "    <tr>\n",
       "      <th>1</th>\n",
       "      <td>1459193988</td>\n",
       "      <td>CONTENT SHARED</td>\n",
       "      <td>-4110354420726924665</td>\n",
       "      <td>4340306774493623681</td>\n",
       "      <td>8940341205206233829</td>\n",
       "      <td>NaN</td>\n",
       "      <td>NaN</td>\n",
       "      <td>NaN</td>\n",
       "      <td>HTML</td>\n",
       "      <td>http://www.nytimes.com/2016/03/28/business/dea...</td>\n",
       "      <td>Ethereum, a Virtual Currency, Enables Transact...</td>\n",
       "      <td>All of this work is still very early. The firs...</td>\n",
       "      <td>en</td>\n",
       "    </tr>\n",
       "    <tr>\n",
       "      <th>2</th>\n",
       "      <td>1459194146</td>\n",
       "      <td>CONTENT SHARED</td>\n",
       "      <td>-7292285110016212249</td>\n",
       "      <td>4340306774493623681</td>\n",
       "      <td>8940341205206233829</td>\n",
       "      <td>NaN</td>\n",
       "      <td>NaN</td>\n",
       "      <td>NaN</td>\n",
       "      <td>HTML</td>\n",
       "      <td>http://cointelegraph.com/news/bitcoin-future-w...</td>\n",
       "      <td>Bitcoin Future: When GBPcoin of Branson Wins O...</td>\n",
       "      <td>The alarm clock wakes me at 8:00 with stream o...</td>\n",
       "      <td>en</td>\n",
       "    </tr>\n",
       "    <tr>\n",
       "      <th>3</th>\n",
       "      <td>1459194474</td>\n",
       "      <td>CONTENT SHARED</td>\n",
       "      <td>-6151852268067518688</td>\n",
       "      <td>3891637997717104548</td>\n",
       "      <td>-1457532940883382585</td>\n",
       "      <td>NaN</td>\n",
       "      <td>NaN</td>\n",
       "      <td>NaN</td>\n",
       "      <td>HTML</td>\n",
       "      <td>https://cloudplatform.googleblog.com/2016/03/G...</td>\n",
       "      <td>Google Data Center 360° Tour</td>\n",
       "      <td>We're excited to share the Google Data Center ...</td>\n",
       "      <td>en</td>\n",
       "    </tr>\n",
       "    <tr>\n",
       "      <th>4</th>\n",
       "      <td>1459194497</td>\n",
       "      <td>CONTENT SHARED</td>\n",
       "      <td>2448026894306402386</td>\n",
       "      <td>4340306774493623681</td>\n",
       "      <td>8940341205206233829</td>\n",
       "      <td>NaN</td>\n",
       "      <td>NaN</td>\n",
       "      <td>NaN</td>\n",
       "      <td>HTML</td>\n",
       "      <td>https://bitcoinmagazine.com/articles/ibm-wants...</td>\n",
       "      <td>IBM Wants to \"Evolve the Internet\" With Blockc...</td>\n",
       "      <td>The Aite Group projects the blockchain market ...</td>\n",
       "      <td>en</td>\n",
       "    </tr>\n",
       "  </tbody>\n",
       "</table>\n",
       "</div>"
      ],
      "text/plain": [
       "    timestamp        eventType            contentId       authorPersonId  \\\n",
       "0  1459192779  CONTENT REMOVED -6451309518266745024  4340306774493623681   \n",
       "1  1459193988   CONTENT SHARED -4110354420726924665  4340306774493623681   \n",
       "2  1459194146   CONTENT SHARED -7292285110016212249  4340306774493623681   \n",
       "3  1459194474   CONTENT SHARED -6151852268067518688  3891637997717104548   \n",
       "4  1459194497   CONTENT SHARED  2448026894306402386  4340306774493623681   \n",
       "\n",
       "       authorSessionId authorUserAgent authorRegion authorCountry contentType  \\\n",
       "0  8940341205206233829             NaN          NaN           NaN        HTML   \n",
       "1  8940341205206233829             NaN          NaN           NaN        HTML   \n",
       "2  8940341205206233829             NaN          NaN           NaN        HTML   \n",
       "3 -1457532940883382585             NaN          NaN           NaN        HTML   \n",
       "4  8940341205206233829             NaN          NaN           NaN        HTML   \n",
       "\n",
       "                                                 url  \\\n",
       "0  http://www.nytimes.com/2016/03/28/business/dea...   \n",
       "1  http://www.nytimes.com/2016/03/28/business/dea...   \n",
       "2  http://cointelegraph.com/news/bitcoin-future-w...   \n",
       "3  https://cloudplatform.googleblog.com/2016/03/G...   \n",
       "4  https://bitcoinmagazine.com/articles/ibm-wants...   \n",
       "\n",
       "                                               title  \\\n",
       "0  Ethereum, a Virtual Currency, Enables Transact...   \n",
       "1  Ethereum, a Virtual Currency, Enables Transact...   \n",
       "2  Bitcoin Future: When GBPcoin of Branson Wins O...   \n",
       "3                       Google Data Center 360° Tour   \n",
       "4  IBM Wants to \"Evolve the Internet\" With Blockc...   \n",
       "\n",
       "                                                text lang  \n",
       "0  All of this work is still very early. The firs...   en  \n",
       "1  All of this work is still very early. The firs...   en  \n",
       "2  The alarm clock wakes me at 8:00 with stream o...   en  \n",
       "3  We're excited to share the Google Data Center ...   en  \n",
       "4  The Aite Group projects the blockchain market ...   en  "
      ]
     },
     "execution_count": 3,
     "metadata": {},
     "output_type": "execute_result"
    }
   ],
   "source": [
    "articles_df = pd.read_csv('shared_articles.csv.zip')\n",
    "articles_df.head(5)"
   ]
  },
  {
   "cell_type": "code",
   "execution_count": 4,
   "metadata": {
    "colab": {
     "base_uri": "https://localhost:8080/"
    },
    "id": "2omA3m9KU0NE",
    "outputId": "62f35802-8dad-4a85-a9bf-3a84b1455eae",
    "slideshow": {
     "slide_type": "subslide"
    }
   },
   "outputs": [
    {
     "name": "stdout",
     "output_type": "stream",
     "text": [
      "<class 'pandas.core.frame.DataFrame'>\n",
      "RangeIndex: 3122 entries, 0 to 3121\n",
      "Data columns (total 13 columns):\n",
      " #   Column           Non-Null Count  Dtype \n",
      "---  ------           --------------  ----- \n",
      " 0   timestamp        3122 non-null   int64 \n",
      " 1   eventType        3122 non-null   object\n",
      " 2   contentId        3122 non-null   int64 \n",
      " 3   authorPersonId   3122 non-null   int64 \n",
      " 4   authorSessionId  3122 non-null   int64 \n",
      " 5   authorUserAgent  680 non-null    object\n",
      " 6   authorRegion     680 non-null    object\n",
      " 7   authorCountry    680 non-null    object\n",
      " 8   contentType      3122 non-null   object\n",
      " 9   url              3122 non-null   object\n",
      " 10  title            3122 non-null   object\n",
      " 11  text             3122 non-null   object\n",
      " 12  lang             3122 non-null   object\n",
      "dtypes: int64(4), object(9)\n",
      "memory usage: 317.2+ KB\n"
     ]
    }
   ],
   "source": [
    "articles_df.info()"
   ]
  },
  {
   "cell_type": "code",
   "execution_count": 5,
   "metadata": {
    "colab": {
     "base_uri": "https://localhost:8080/"
    },
    "id": "DZsmtd6ZUNG0",
    "outputId": "2637d4cc-5586-4b02-bad4-51a3a5bc25ae",
    "slideshow": {
     "slide_type": "subslide"
    }
   },
   "outputs": [
    {
     "data": {
      "text/plain": [
       "CONTENT SHARED     3047\n",
       "CONTENT REMOVED      75\n",
       "Name: eventType, dtype: int64"
      ]
     },
     "execution_count": 5,
     "metadata": {},
     "output_type": "execute_result"
    }
   ],
   "source": [
    "articles_df['eventType'].value_counts()  # unique()"
   ]
  },
  {
   "cell_type": "markdown",
   "metadata": {
    "id": "Ejy0Wb7vUJg4",
    "slideshow": {
     "slide_type": "subslide"
    }
   },
   "source": [
    "Оставим только записи \"CONTENT SHARED\""
   ]
  },
  {
   "cell_type": "code",
   "execution_count": 6,
   "metadata": {
    "id": "ro5TWMPMUBUB",
    "slideshow": {
     "slide_type": "subslide"
    }
   },
   "outputs": [],
   "source": [
    "articles_df = articles_df[articles_df['eventType'] == 'CONTENT SHARED']"
   ]
  },
  {
   "cell_type": "markdown",
   "metadata": {
    "_cell_guid": "487936d5-d7b3-487d-9ef1-e3ba1e4bc421",
    "_uuid": "3f96f2d88fa86814e2fa1273d80f26d2559823fd",
    "id": "Q6mUNLFt0J0V",
    "slideshow": {
     "slide_type": "subslide"
    }
   },
   "source": [
    "## users_interactions.csv"
   ]
  },
  {
   "cell_type": "code",
   "execution_count": 7,
   "metadata": {
    "_cell_guid": "445d39ec-f6b0-4155-9f92-0a2540918bd1",
    "_uuid": "9829842326037e364de457f832deceae074d6164",
    "colab": {
     "base_uri": "https://localhost:8080/",
     "height": 363
    },
    "id": "TSWLgJiX0J0V",
    "outputId": "0047050d-2b1d-4d74-a82e-e810d263b792",
    "slideshow": {
     "slide_type": "subslide"
    }
   },
   "outputs": [
    {
     "data": {
      "text/html": [
       "<div>\n",
       "<style scoped>\n",
       "    .dataframe tbody tr th:only-of-type {\n",
       "        vertical-align: middle;\n",
       "    }\n",
       "\n",
       "    .dataframe tbody tr th {\n",
       "        vertical-align: top;\n",
       "    }\n",
       "\n",
       "    .dataframe thead th {\n",
       "        text-align: right;\n",
       "    }\n",
       "</style>\n",
       "<table border=\"1\" class=\"dataframe\">\n",
       "  <thead>\n",
       "    <tr style=\"text-align: right;\">\n",
       "      <th></th>\n",
       "      <th>timestamp</th>\n",
       "      <th>eventType</th>\n",
       "      <th>contentId</th>\n",
       "      <th>personId</th>\n",
       "      <th>sessionId</th>\n",
       "      <th>userAgent</th>\n",
       "      <th>userRegion</th>\n",
       "      <th>userCountry</th>\n",
       "    </tr>\n",
       "  </thead>\n",
       "  <tbody>\n",
       "    <tr>\n",
       "      <th>0</th>\n",
       "      <td>1465413032</td>\n",
       "      <td>VIEW</td>\n",
       "      <td>-3499919498720038879</td>\n",
       "      <td>-8845298781299428018</td>\n",
       "      <td>1264196770339959068</td>\n",
       "      <td>NaN</td>\n",
       "      <td>NaN</td>\n",
       "      <td>NaN</td>\n",
       "    </tr>\n",
       "    <tr>\n",
       "      <th>1</th>\n",
       "      <td>1465412560</td>\n",
       "      <td>VIEW</td>\n",
       "      <td>8890720798209849691</td>\n",
       "      <td>-1032019229384696495</td>\n",
       "      <td>3621737643587579081</td>\n",
       "      <td>Mozilla/5.0 (Macintosh; Intel Mac OS X 10_11_2...</td>\n",
       "      <td>NY</td>\n",
       "      <td>US</td>\n",
       "    </tr>\n",
       "    <tr>\n",
       "      <th>2</th>\n",
       "      <td>1465416190</td>\n",
       "      <td>VIEW</td>\n",
       "      <td>310515487419366995</td>\n",
       "      <td>-1130272294246983140</td>\n",
       "      <td>2631864456530402479</td>\n",
       "      <td>NaN</td>\n",
       "      <td>NaN</td>\n",
       "      <td>NaN</td>\n",
       "    </tr>\n",
       "    <tr>\n",
       "      <th>3</th>\n",
       "      <td>1465413895</td>\n",
       "      <td>FOLLOW</td>\n",
       "      <td>310515487419366995</td>\n",
       "      <td>344280948527967603</td>\n",
       "      <td>-3167637573980064150</td>\n",
       "      <td>NaN</td>\n",
       "      <td>NaN</td>\n",
       "      <td>NaN</td>\n",
       "    </tr>\n",
       "    <tr>\n",
       "      <th>4</th>\n",
       "      <td>1465412290</td>\n",
       "      <td>VIEW</td>\n",
       "      <td>-7820640624231356730</td>\n",
       "      <td>-445337111692715325</td>\n",
       "      <td>5611481178424124714</td>\n",
       "      <td>NaN</td>\n",
       "      <td>NaN</td>\n",
       "      <td>NaN</td>\n",
       "    </tr>\n",
       "    <tr>\n",
       "      <th>5</th>\n",
       "      <td>1465413742</td>\n",
       "      <td>VIEW</td>\n",
       "      <td>310515487419366995</td>\n",
       "      <td>-8763398617720485024</td>\n",
       "      <td>1395789369402380392</td>\n",
       "      <td>Mozilla/5.0 (Windows NT 10.0; WOW64) AppleWebK...</td>\n",
       "      <td>MG</td>\n",
       "      <td>BR</td>\n",
       "    </tr>\n",
       "    <tr>\n",
       "      <th>6</th>\n",
       "      <td>1465415950</td>\n",
       "      <td>VIEW</td>\n",
       "      <td>-8864073373672512525</td>\n",
       "      <td>3609194402293569455</td>\n",
       "      <td>1143207167886864524</td>\n",
       "      <td>NaN</td>\n",
       "      <td>NaN</td>\n",
       "      <td>NaN</td>\n",
       "    </tr>\n",
       "    <tr>\n",
       "      <th>7</th>\n",
       "      <td>1465415066</td>\n",
       "      <td>VIEW</td>\n",
       "      <td>-1492913151930215984</td>\n",
       "      <td>4254153380739593270</td>\n",
       "      <td>8743229464706506141</td>\n",
       "      <td>Mozilla/5.0 (X11; Linux x86_64) AppleWebKit/53...</td>\n",
       "      <td>SP</td>\n",
       "      <td>BR</td>\n",
       "    </tr>\n",
       "    <tr>\n",
       "      <th>8</th>\n",
       "      <td>1465413762</td>\n",
       "      <td>VIEW</td>\n",
       "      <td>310515487419366995</td>\n",
       "      <td>344280948527967603</td>\n",
       "      <td>-3167637573980064150</td>\n",
       "      <td>NaN</td>\n",
       "      <td>NaN</td>\n",
       "      <td>NaN</td>\n",
       "    </tr>\n",
       "    <tr>\n",
       "      <th>9</th>\n",
       "      <td>1465413771</td>\n",
       "      <td>VIEW</td>\n",
       "      <td>3064370296170038610</td>\n",
       "      <td>3609194402293569455</td>\n",
       "      <td>1143207167886864524</td>\n",
       "      <td>NaN</td>\n",
       "      <td>NaN</td>\n",
       "      <td>NaN</td>\n",
       "    </tr>\n",
       "  </tbody>\n",
       "</table>\n",
       "</div>"
      ],
      "text/plain": [
       "    timestamp eventType            contentId             personId  \\\n",
       "0  1465413032      VIEW -3499919498720038879 -8845298781299428018   \n",
       "1  1465412560      VIEW  8890720798209849691 -1032019229384696495   \n",
       "2  1465416190      VIEW   310515487419366995 -1130272294246983140   \n",
       "3  1465413895    FOLLOW   310515487419366995   344280948527967603   \n",
       "4  1465412290      VIEW -7820640624231356730  -445337111692715325   \n",
       "5  1465413742      VIEW   310515487419366995 -8763398617720485024   \n",
       "6  1465415950      VIEW -8864073373672512525  3609194402293569455   \n",
       "7  1465415066      VIEW -1492913151930215984  4254153380739593270   \n",
       "8  1465413762      VIEW   310515487419366995   344280948527967603   \n",
       "9  1465413771      VIEW  3064370296170038610  3609194402293569455   \n",
       "\n",
       "             sessionId                                          userAgent  \\\n",
       "0  1264196770339959068                                                NaN   \n",
       "1  3621737643587579081  Mozilla/5.0 (Macintosh; Intel Mac OS X 10_11_2...   \n",
       "2  2631864456530402479                                                NaN   \n",
       "3 -3167637573980064150                                                NaN   \n",
       "4  5611481178424124714                                                NaN   \n",
       "5  1395789369402380392  Mozilla/5.0 (Windows NT 10.0; WOW64) AppleWebK...   \n",
       "6  1143207167886864524                                                NaN   \n",
       "7  8743229464706506141  Mozilla/5.0 (X11; Linux x86_64) AppleWebKit/53...   \n",
       "8 -3167637573980064150                                                NaN   \n",
       "9  1143207167886864524                                                NaN   \n",
       "\n",
       "  userRegion userCountry  \n",
       "0        NaN         NaN  \n",
       "1         NY          US  \n",
       "2        NaN         NaN  \n",
       "3        NaN         NaN  \n",
       "4        NaN         NaN  \n",
       "5         MG          BR  \n",
       "6        NaN         NaN  \n",
       "7         SP          BR  \n",
       "8        NaN         NaN  \n",
       "9        NaN         NaN  "
      ]
     },
     "execution_count": 7,
     "metadata": {},
     "output_type": "execute_result"
    }
   ],
   "source": [
    "interactions_df = pd.read_csv('users_interactions.csv.zip')\n",
    "interactions_df.head(10)"
   ]
  },
  {
   "cell_type": "code",
   "execution_count": 8,
   "metadata": {
    "colab": {
     "base_uri": "https://localhost:8080/"
    },
    "id": "FYR8Lo5Ilg9q",
    "outputId": "8def60dc-efc8-47fa-ebb5-7d39f96603bd",
    "slideshow": {
     "slide_type": "subslide"
    }
   },
   "outputs": [
    {
     "data": {
      "text/plain": [
       "VIEW               61086\n",
       "LIKE                5745\n",
       "BOOKMARK            2463\n",
       "COMMENT CREATED     1611\n",
       "FOLLOW              1407\n",
       "Name: eventType, dtype: int64"
      ]
     },
     "execution_count": 8,
     "metadata": {},
     "output_type": "execute_result"
    }
   ],
   "source": [
    "interactions_df['eventType'].value_counts()"
   ]
  },
  {
   "cell_type": "markdown",
   "metadata": {
    "_cell_guid": "585f81a5-c6ff-4399-bbec-901c41fc7285",
    "_uuid": "6abb0af8474eabb50be7a9e6496bfa75ec1b2bd9",
    "id": "8B8o3pGA0J0W",
    "slideshow": {
     "slide_type": "subslide"
    }
   },
   "source": [
    "## Подготовка данных"
   ]
  },
  {
   "cell_type": "markdown",
   "metadata": {
    "_cell_guid": "bad1a6c9-0258-4b89-85f9-bec89a523662",
    "_uuid": "84c2e91561d5de6afa7c45c173022193664c770e",
    "id": "04IUXALv0J0W",
    "slideshow": {
     "slide_type": "subslide"
    }
   },
   "source": [
    "Взвесим разные типы взаимодействий пользователя со статьей"
   ]
  },
  {
   "cell_type": "code",
   "execution_count": 9,
   "metadata": {
    "_cell_guid": "3239c376-05b8-4a58-9afc-f6f57f67405f",
    "_uuid": "b06f8c0b082f0ad07bf773a5ad2fae33c1f7acc2",
    "id": "yNuk-UzN0J0W",
    "slideshow": {
     "slide_type": "subslide"
    }
   },
   "outputs": [],
   "source": [
    "event_type_strength = {\n",
    "   'VIEW': 1.0,\n",
    "   'LIKE': 2.0, \n",
    "   'BOOKMARK': 2.5, \n",
    "   'FOLLOW': 3.0,\n",
    "   'COMMENT CREATED': 4.0,  \n",
    "}\n",
    "\n",
    "interactions_df['eventStrength'] = interactions_df['eventType'].apply(lambda x: event_type_strength[x])"
   ]
  },
  {
   "cell_type": "markdown",
   "metadata": {
    "_cell_guid": "5c92aa80-2926-44db-b358-c4c32de806c4",
    "_uuid": "91100a395fdf4fb20df02c8d248072457c980b5d",
    "id": "2wlPCJEN0J0W",
    "slideshow": {
     "slide_type": "subslide"
    }
   },
   "source": [
    "У рекомендательные систем есть проблема холодного старта. Для простоты и более простой валидациии оставим пользователей, которые совершили как минимум 15 действий."
   ]
  },
  {
   "cell_type": "code",
   "execution_count": 10,
   "metadata": {
    "_cell_guid": "bad1d8ea-9b67-4a47-80c5-87a5e55c4f38",
    "_uuid": "1698c88340183baa7f3ebb8c3b60eaa8e6ca708f",
    "colab": {
     "base_uri": "https://localhost:8080/"
    },
    "id": "khi4sb9L0J0W",
    "outputId": "6200932a-e9d7-4e99-bf11-154930cd0913",
    "slideshow": {
     "slide_type": "subslide"
    }
   },
   "outputs": [
    {
     "name": "stdout",
     "output_type": "stream",
     "text": [
      "# users: 1895\n",
      "# users with at least 15 interactions: 579\n"
     ]
    }
   ],
   "source": [
    "INTERACTIONS_THRESHOLD = 15\n",
    "\n",
    "users_interactions_count_df = interactions_df.groupby(['personId', 'contentId']).size().groupby('personId').size()\n",
    "print('# users: %d' % len(users_interactions_count_df))\n",
    "users_with_enough_interactions_df = users_interactions_count_df[users_interactions_count_df >= INTERACTIONS_THRESHOLD].reset_index()[['personId']]\n",
    "print(f'# users with at least {INTERACTIONS_THRESHOLD} interactions: {len(users_with_enough_interactions_df)}')"
   ]
  },
  {
   "cell_type": "code",
   "execution_count": 11,
   "metadata": {
    "_cell_guid": "4e79a418-a9d6-4e01-9f38-9b290a645626",
    "_uuid": "0f428a4c6e76f95de7ea328dc33c6539389ae5f0",
    "colab": {
     "base_uri": "https://localhost:8080/"
    },
    "id": "kCqyhKPU0J0X",
    "outputId": "6042f372-3528-49f6-f101-70e463090e07",
    "slideshow": {
     "slide_type": "subslide"
    }
   },
   "outputs": [
    {
     "name": "stdout",
     "output_type": "stream",
     "text": [
      "# of interactions: 72312\n",
      "# of interactions from users with at least 15 interactions: 62717\n"
     ]
    }
   ],
   "source": [
    "print('# of interactions: %d' % len(interactions_df))\n",
    "interactions_from_selected_users_df = interactions_df.merge(users_with_enough_interactions_df, \n",
    "               how = 'right',\n",
    "               left_on = 'personId',\n",
    "               right_on = 'personId')\n",
    "print('# of interactions from users with at least 15 interactions: %d' % len(interactions_from_selected_users_df))"
   ]
  },
  {
   "cell_type": "markdown",
   "metadata": {
    "_cell_guid": "b81f2aae-4672-4ae7-aee5-f2c8f49ed863",
    "_uuid": "db9ae42791a79461ff11a462d142eae3d6c23e88",
    "id": "kKryQQ-v0J0X",
    "slideshow": {
     "slide_type": "subslide"
    }
   },
   "source": [
    "Пользователь может взаимодействовать с одной статьей несколько раз. Добавим агрегацию."
   ]
  },
  {
   "cell_type": "code",
   "execution_count": 12,
   "metadata": {
    "_cell_guid": "54c82dd1-1102-4f11-ac6a-7993f8e5e842",
    "_uuid": "dcd64b20b47cf2c365341303ff410626a801f7a6",
    "colab": {
     "base_uri": "https://localhost:8080/",
     "height": 380
    },
    "id": "tDa34Hkq0J0X",
    "outputId": "633b2587-6399-49fc-ad1d-31256f65c224",
    "slideshow": {
     "slide_type": "subslide"
    }
   },
   "outputs": [
    {
     "name": "stdout",
     "output_type": "stream",
     "text": [
      "# of unique user/item interactions: 34417\n"
     ]
    },
    {
     "data": {
      "text/html": [
       "<div>\n",
       "<style scoped>\n",
       "    .dataframe tbody tr th:only-of-type {\n",
       "        vertical-align: middle;\n",
       "    }\n",
       "\n",
       "    .dataframe tbody tr th {\n",
       "        vertical-align: top;\n",
       "    }\n",
       "\n",
       "    .dataframe thead th {\n",
       "        text-align: right;\n",
       "    }\n",
       "</style>\n",
       "<table border=\"1\" class=\"dataframe\">\n",
       "  <thead>\n",
       "    <tr style=\"text-align: right;\">\n",
       "      <th></th>\n",
       "      <th>personId</th>\n",
       "      <th>contentId</th>\n",
       "      <th>eventStrength</th>\n",
       "    </tr>\n",
       "  </thead>\n",
       "  <tbody>\n",
       "    <tr>\n",
       "      <th>0</th>\n",
       "      <td>-9223121837663643404</td>\n",
       "      <td>-8949113594875411859</td>\n",
       "      <td>1.000000</td>\n",
       "    </tr>\n",
       "    <tr>\n",
       "      <th>1</th>\n",
       "      <td>-9223121837663643404</td>\n",
       "      <td>-8377626164558006982</td>\n",
       "      <td>1.000000</td>\n",
       "    </tr>\n",
       "    <tr>\n",
       "      <th>2</th>\n",
       "      <td>-9223121837663643404</td>\n",
       "      <td>-8208801367848627943</td>\n",
       "      <td>1.000000</td>\n",
       "    </tr>\n",
       "    <tr>\n",
       "      <th>3</th>\n",
       "      <td>-9223121837663643404</td>\n",
       "      <td>-8187220755213888616</td>\n",
       "      <td>1.000000</td>\n",
       "    </tr>\n",
       "    <tr>\n",
       "      <th>4</th>\n",
       "      <td>-9223121837663643404</td>\n",
       "      <td>-7423191370472335463</td>\n",
       "      <td>3.169925</td>\n",
       "    </tr>\n",
       "    <tr>\n",
       "      <th>5</th>\n",
       "      <td>-9223121837663643404</td>\n",
       "      <td>-7331393944609614247</td>\n",
       "      <td>1.000000</td>\n",
       "    </tr>\n",
       "    <tr>\n",
       "      <th>6</th>\n",
       "      <td>-9223121837663643404</td>\n",
       "      <td>-6872546942144599345</td>\n",
       "      <td>1.000000</td>\n",
       "    </tr>\n",
       "    <tr>\n",
       "      <th>7</th>\n",
       "      <td>-9223121837663643404</td>\n",
       "      <td>-6728844082024523434</td>\n",
       "      <td>1.000000</td>\n",
       "    </tr>\n",
       "    <tr>\n",
       "      <th>8</th>\n",
       "      <td>-9223121837663643404</td>\n",
       "      <td>-6590819806697898649</td>\n",
       "      <td>1.000000</td>\n",
       "    </tr>\n",
       "    <tr>\n",
       "      <th>9</th>\n",
       "      <td>-9223121837663643404</td>\n",
       "      <td>-6558712014192834002</td>\n",
       "      <td>1.584963</td>\n",
       "    </tr>\n",
       "  </tbody>\n",
       "</table>\n",
       "</div>"
      ],
      "text/plain": [
       "              personId            contentId  eventStrength\n",
       "0 -9223121837663643404 -8949113594875411859       1.000000\n",
       "1 -9223121837663643404 -8377626164558006982       1.000000\n",
       "2 -9223121837663643404 -8208801367848627943       1.000000\n",
       "3 -9223121837663643404 -8187220755213888616       1.000000\n",
       "4 -9223121837663643404 -7423191370472335463       3.169925\n",
       "5 -9223121837663643404 -7331393944609614247       1.000000\n",
       "6 -9223121837663643404 -6872546942144599345       1.000000\n",
       "7 -9223121837663643404 -6728844082024523434       1.000000\n",
       "8 -9223121837663643404 -6590819806697898649       1.000000\n",
       "9 -9223121837663643404 -6558712014192834002       1.584963"
      ]
     },
     "execution_count": 12,
     "metadata": {},
     "output_type": "execute_result"
    }
   ],
   "source": [
    "def smooth_user_preference(x):\n",
    "    return math.log(1 + x, 2)\n",
    "    \n",
    "interactions_full_df = interactions_from_selected_users_df \\\n",
    "                    .groupby(['personId', 'contentId'])['eventStrength'].sum() \\\n",
    "                    .apply(smooth_user_preference).reset_index()\n",
    "print('# of unique user/item interactions: %d' % len(interactions_full_df))\n",
    "interactions_full_df.head(10)"
   ]
  },
  {
   "cell_type": "markdown",
   "metadata": {
    "id": "aTiMH4IkWuwf",
    "slideshow": {
     "slide_type": "subslide"
    }
   },
   "source": [
    "Проверим, что нет дубликатов пар"
   ]
  },
  {
   "cell_type": "code",
   "execution_count": 13,
   "metadata": {
    "colab": {
     "base_uri": "https://localhost:8080/"
    },
    "id": "wO2kuUyuQejZ",
    "outputId": "3ca42a0c-2d97-412d-a134-b5a6a09d7e02",
    "slideshow": {
     "slide_type": "subslide"
    }
   },
   "outputs": [
    {
     "data": {
      "text/plain": [
       "0"
      ]
     },
     "execution_count": 13,
     "metadata": {},
     "output_type": "execute_result"
    }
   ],
   "source": [
    "(interactions_full_df.groupby(['personId', 'contentId'])['eventStrength'].nunique() > 1).sum()"
   ]
  },
  {
   "cell_type": "markdown",
   "metadata": {
    "_cell_guid": "7db22656-f1b2-4264-b74d-92ef7e03168e",
    "_uuid": "999dac17031a334be5a2245086e9c4655c5e8324",
    "id": "v40et7De0J0Y",
    "slideshow": {
     "slide_type": "subslide"
    }
   },
   "source": [
    "# Evaluation"
   ]
  },
  {
   "cell_type": "markdown",
   "metadata": {
    "_cell_guid": "4c67fc79-fb30-4bb0-837d-a3097bf8b9b4",
    "_uuid": "7951a4fce829b66e1c96ef81fd33b12dac5eae0f",
    "id": "atuoVoFv0J0Y",
    "slideshow": {
     "slide_type": "subslide"
    }
   },
   "source": [
    "Будем использовать валидацию на holdout-выборке. И в обучающей и тестовой выборке будут присутствовать все пользователи."
   ]
  },
  {
   "cell_type": "code",
   "execution_count": 14,
   "metadata": {
    "_cell_guid": "e594a5ef-255a-4d30-9ab2-7cebe12fe798",
    "_uuid": "babda61be5306281b34422dbded67675a0aab17d",
    "colab": {
     "base_uri": "https://localhost:8080/"
    },
    "id": "K12kTUMQ0J0Z",
    "outputId": "1fb89dc9-88bd-4da2-c05e-3c237139b767",
    "slideshow": {
     "slide_type": "subslide"
    }
   },
   "outputs": [
    {
     "name": "stdout",
     "output_type": "stream",
     "text": [
      "# interactions on Train set: 27533\n",
      "# interactions on Test set: 6884\n"
     ]
    }
   ],
   "source": [
    "interactions_train_df, interactions_test_df = train_test_split(interactions_full_df,\n",
    "                                   stratify=interactions_full_df['personId'], \n",
    "                                   test_size=0.20,\n",
    "                                   random_state=42)\n",
    "\n",
    "print('# interactions on Train set: %d' % len(interactions_train_df))\n",
    "print('# interactions on Test set: %d' % len(interactions_test_df))"
   ]
  },
  {
   "cell_type": "code",
   "execution_count": 15,
   "metadata": {
    "colab": {
     "base_uri": "https://localhost:8080/"
    },
    "id": "mTDTe7jkQNJ3",
    "outputId": "dfb60f57-abb7-456f-acb5-9e3416ad195b",
    "slideshow": {
     "slide_type": "subslide"
    }
   },
   "outputs": [
    {
     "data": {
      "text/plain": [
       "(579, 579, 579)"
      ]
     },
     "execution_count": 15,
     "metadata": {},
     "output_type": "execute_result"
    }
   ],
   "source": [
    "interactions_full_df['personId'].nunique(), \\\n",
    "interactions_train_df['personId'].nunique(), interactions_test_df['personId'].nunique()"
   ]
  },
  {
   "cell_type": "code",
   "execution_count": 16,
   "metadata": {
    "colab": {
     "base_uri": "https://localhost:8080/",
     "height": 455
    },
    "id": "xZzSijC1cqFm",
    "outputId": "ed5a69fa-662c-47a3-e790-1a382356e549",
    "slideshow": {
     "slide_type": "subslide"
    }
   },
   "outputs": [
    {
     "data": {
      "text/html": [
       "<div>\n",
       "<style scoped>\n",
       "    .dataframe tbody tr th:only-of-type {\n",
       "        vertical-align: middle;\n",
       "    }\n",
       "\n",
       "    .dataframe tbody tr th {\n",
       "        vertical-align: top;\n",
       "    }\n",
       "\n",
       "    .dataframe thead th {\n",
       "        text-align: right;\n",
       "    }\n",
       "</style>\n",
       "<table border=\"1\" class=\"dataframe\">\n",
       "  <thead>\n",
       "    <tr style=\"text-align: right;\">\n",
       "      <th></th>\n",
       "      <th>train</th>\n",
       "      <th>test</th>\n",
       "    </tr>\n",
       "    <tr>\n",
       "      <th>personId</th>\n",
       "      <th></th>\n",
       "      <th></th>\n",
       "    </tr>\n",
       "  </thead>\n",
       "  <tbody>\n",
       "    <tr>\n",
       "      <th>-9223121837663643404</th>\n",
       "      <td>34</td>\n",
       "      <td>9</td>\n",
       "    </tr>\n",
       "    <tr>\n",
       "      <th>-9172914609055320039</th>\n",
       "      <td>19</td>\n",
       "      <td>5</td>\n",
       "    </tr>\n",
       "    <tr>\n",
       "      <th>-9120685872592674274</th>\n",
       "      <td>19</td>\n",
       "      <td>5</td>\n",
       "    </tr>\n",
       "    <tr>\n",
       "      <th>-9109785559521267180</th>\n",
       "      <td>34</td>\n",
       "      <td>9</td>\n",
       "    </tr>\n",
       "    <tr>\n",
       "      <th>-9047547311469006438</th>\n",
       "      <td>19</td>\n",
       "      <td>5</td>\n",
       "    </tr>\n",
       "    <tr>\n",
       "      <th>...</th>\n",
       "      <td>...</td>\n",
       "      <td>...</td>\n",
       "    </tr>\n",
       "    <tr>\n",
       "      <th>9105269044962898535</th>\n",
       "      <td>14</td>\n",
       "      <td>3</td>\n",
       "    </tr>\n",
       "    <tr>\n",
       "      <th>9109075639526981934</th>\n",
       "      <td>58</td>\n",
       "      <td>15</td>\n",
       "    </tr>\n",
       "    <tr>\n",
       "      <th>9148269800512008413</th>\n",
       "      <td>41</td>\n",
       "      <td>10</td>\n",
       "    </tr>\n",
       "    <tr>\n",
       "      <th>9187866633451383747</th>\n",
       "      <td>14</td>\n",
       "      <td>3</td>\n",
       "    </tr>\n",
       "    <tr>\n",
       "      <th>9210530975708218054</th>\n",
       "      <td>50</td>\n",
       "      <td>13</td>\n",
       "    </tr>\n",
       "  </tbody>\n",
       "</table>\n",
       "<p>579 rows × 2 columns</p>\n",
       "</div>"
      ],
      "text/plain": [
       "                      train  test\n",
       "personId                         \n",
       "-9223121837663643404     34     9\n",
       "-9172914609055320039     19     5\n",
       "-9120685872592674274     19     5\n",
       "-9109785559521267180     34     9\n",
       "-9047547311469006438     19     5\n",
       "...                     ...   ...\n",
       " 9105269044962898535     14     3\n",
       " 9109075639526981934     58    15\n",
       " 9148269800512008413     41    10\n",
       " 9187866633451383747     14     3\n",
       " 9210530975708218054     50    13\n",
       "\n",
       "[579 rows x 2 columns]"
      ]
     },
     "execution_count": 16,
     "metadata": {},
     "output_type": "execute_result"
    }
   ],
   "source": [
    "interaction_per_person_count = pd.concat([interactions_train_df.groupby('personId')['contentId'].count(), interactions_test_df.groupby('personId')['contentId'].count()], axis=1)\n",
    "interaction_per_person_count.columns = ['train', 'test']\n",
    "interaction_per_person_count"
   ]
  },
  {
   "cell_type": "markdown",
   "metadata": {
    "_cell_guid": "a6f711db-3848-42de-9cb1-8adbe9fffbbd",
    "_uuid": "cb9da9e9269f20d347c9a7d0320da02f5b5d9cda",
    "id": "QUFRHpzO0J0Z",
    "slideshow": {
     "slide_type": "subslide"
    }
   },
   "source": [
    "The Top-N accuracy metric choosen was **Recall@N** which evaluates whether the interacted item is among the top N items (hit) in the ranked list of 10 recommendations for a user.  \n",
    "Ps. Other popular ranking metrics are **NDCG@N** and **MAP@N**, whose score calculation takes into account the position of the relevant item in the ranked list (max. value if relevant item is in the first position)."
   ]
  },
  {
   "cell_type": "code",
   "execution_count": 17,
   "metadata": {
    "_cell_guid": "5f08b8ac-00c7-43db-89b6-4c6637f92ec5",
    "_uuid": "b97d86eb838b7dc3ce70ce2bc460b37f643fbcbb",
    "id": "dEqphsKZ0J0a",
    "slideshow": {
     "slide_type": "subslide"
    }
   },
   "outputs": [],
   "source": [
    "#Indexing by personId to speed up the searches during evaluation\n",
    "interactions_full_indexed_df = interactions_full_df.set_index('personId')\n",
    "interactions_train_indexed_df = interactions_train_df.set_index('personId')\n",
    "interactions_test_indexed_df = interactions_test_df.set_index('personId')"
   ]
  },
  {
   "cell_type": "markdown",
   "metadata": {
    "id": "QaXvKPmL0J0f",
    "slideshow": {
     "slide_type": "subslide"
    }
   },
   "source": [
    "## Evaluation"
   ]
  },
  {
   "cell_type": "markdown",
   "metadata": {
    "id": "vvGwZVMmnaxW",
    "slideshow": {
     "slide_type": "subslide"
    }
   },
   "source": [
    "* Будем оценивать две метрики: Precision и Recall.\n",
    "* Приведены два способа подсчета метрик:\n",
    "  * Precision считается простым образом\n",
    "  * Recall использует добавление дополнительных записей, с которыми заведомо не было взаимодействия,\n",
    "* Метрики считаются по каждому пользователю отдельно  \n",
    "\n",
    "Контракт: модель реализует метод    \n",
    "\n",
    "\n",
    "```\n",
    "def recommend_items(self, user_id, topn=10, items_to_ignore=[], verbose=False) -> pd.DataFrame\n",
    "```\n",
    "* user_id - id пользователя\n",
    "* topn - количество рекомендаций \n",
    "* items_to_ignore - blacklist item, которые не рекомендуются (обычно из train датасета) \n",
    "* verbose - влияет на формат ответа.\n",
    "Всегда содержит contentId и recStrength\n",
    "Если True добавляется title, url, lang из статьи\n",
    "\n"
   ]
  },
  {
   "cell_type": "code",
   "execution_count": 18,
   "metadata": {
    "_cell_guid": "3ee4bdf5-fcde-418f-accc-c51421a71d75",
    "_uuid": "4c008550d5312b45c1786407cce587eaf19b565c",
    "id": "qh9Sm9tL0J0f",
    "slideshow": {
     "slide_type": "subslide"
    }
   },
   "outputs": [],
   "source": [
    "def get_items_interacted(person_id, interactions_df):\n",
    "    interacted_items = interactions_df.loc[person_id]['contentId']\n",
    "    return set(interacted_items if type(interacted_items) == pd.Series else [interacted_items])"
   ]
  },
  {
   "cell_type": "code",
   "execution_count": 45,
   "metadata": {
    "_cell_guid": "0e0639e7-4041-473d-a090-cd0087ce92c3",
    "_uuid": "c9612b159a8d626fe986586230b829ce2e93aff7",
    "id": "6xghdVK10J0f",
    "slideshow": {
     "slide_type": "subslide"
    }
   },
   "outputs": [],
   "source": [
    "# Top-N accuracy metrics consts\n",
    "EVAL_RANDOM_SAMPLE_NON_INTERACTED_ITEMS = 100\n",
    "\n",
    "class ModelEvaluator:\n",
    "\n",
    "\n",
    "    def get_not_interacted_items_sample(self, person_id, sample_size, seed=43):\n",
    "        interacted_items = get_items_interacted(person_id, interactions_full_indexed_df)\n",
    "        all_items = set(articles_df['contentId'])\n",
    "        non_interacted_items = all_items - interacted_items\n",
    "\n",
    "        random.seed(seed)\n",
    "        non_interacted_items_sample = random.sample(tuple(non_interacted_items), sample_size)\n",
    "        return set(non_interacted_items_sample)\n",
    "\n",
    "    def _verify_hit_top_n(self, item_id, recommended_items, topn):        \n",
    "            try:\n",
    "                index = next(i for i, c in enumerate(recommended_items) if c == item_id)\n",
    "            except:\n",
    "                index = -1\n",
    "            hit = int(0 <= index < topn)\n",
    "            return hit, index\n",
    "\n",
    "    def _calculate_hits(self, person_interacted_items_testset, person_id, person_recs_df): \n",
    "        hits_at_5_count = 0\n",
    "        hits_at_10_count = 0\n",
    "        # For each item the user has interacted in test set\n",
    "        for item_id in person_interacted_items_testset:\n",
    "            # Getting a random sample (100) items the user has not interacted \n",
    "            # (to represent items that are assumed to be no relevant to the user)\n",
    "            non_interacted_items_sample = self.get_not_interacted_items_sample(person_id, \n",
    "                                                                          sample_size=EVAL_RANDOM_SAMPLE_NON_INTERACTED_ITEMS, \n",
    "                                                                          seed=item_id%(2**32))\n",
    "\n",
    "            # Combining the current interacted item with the 100 random items\n",
    "            items_to_filter_recs = non_interacted_items_sample.union(set([item_id]))\n",
    "\n",
    "            # Filtering only recommendations that are either the interacted item or from a random sample of 100 non-interacted items\n",
    "            valid_recs_df = person_recs_df[person_recs_df['contentId'].isin(items_to_filter_recs)]\n",
    "            valid_recs = valid_recs_df['contentId'].values\n",
    "            # Verifying if the current interacted item is among the Top-N recommended items\n",
    "            hit_at_5, index_at_5 = self._verify_hit_top_n(item_id, valid_recs, 5)\n",
    "            hits_at_5_count += hit_at_5\n",
    "            hit_at_10, index_at_10 = self._verify_hit_top_n(item_id, valid_recs, 10)\n",
    "            hits_at_10_count += hit_at_10\n",
    "\n",
    "      \n",
    "        return hits_at_5_count, hits_at_10_count\n",
    "\n",
    "    def evaluate_model_for_user(self, model, person_id):\n",
    "        # Getting the items in test set\n",
    "        interacted_values_testset = interactions_test_indexed_df.loc[[person_id]]\n",
    "        person_interacted_items_testset = set(interacted_values_testset['contentId'])\n",
    "        interacted_items_count_testset = len(person_interacted_items_testset) \n",
    "\n",
    "        # Getting a ranked recommendation list from a model for a given user\n",
    "        person_recs_df = model.recommend_items(person_id, \n",
    "                                               items_to_ignore=get_items_interacted(person_id, \n",
    "                                                                                    interactions_train_indexed_df), \n",
    "                                               topn=10**7)\n",
    "        \n",
    "        hits_at_5_count, hits_at_10_count = self._calculate_hits(person_interacted_items_testset, person_id, person_recs_df)\n",
    "        # Recall is the rate of the interacted items that are ranked among the Top-N recommended items, \n",
    "        # when mixed with a set of non-relevant items\n",
    "        recall_at_5 = hits_at_5_count / float(interacted_items_count_testset)\n",
    "        recall_at_10 = hits_at_10_count / float(interacted_items_count_testset)\n",
    "        \n",
    "        \n",
    "        # print(interacted_items_count_testset)\n",
    "        precision_at_3 = person_recs_df.iloc[:3]['contentId'].isin(person_interacted_items_testset).mean()\n",
    "\n",
    "       \n",
    "\n",
    "        person_metrics = {'hits@5_count':hits_at_5_count, \n",
    "                          'hits@10_count':hits_at_10_count, \n",
    "                          'interacted_count': interacted_items_count_testset,\n",
    "                          'recall@5': recall_at_5,\n",
    "                          'recall@10': recall_at_10,\n",
    "                          'precision@3': precision_at_3}\n",
    "        return person_metrics\n",
    "\n",
    "    def evaluate_model(self, model):\n",
    "        # print('Running evaluation for users')\n",
    "        people_metrics = []\n",
    "        for idx, person_id in enumerate(list(interactions_test_indexed_df.index.unique().values)):\n",
    "            if idx % 100 == 0 and idx > 0:\n",
    "                print(f'{idx} users processed')\n",
    "            person_metrics = self.evaluate_model_for_user(model, person_id)  \n",
    "            person_metrics['_person_id'] = person_id\n",
    "            people_metrics.append(person_metrics)\n",
    "        print('%d users processed' % idx)\n",
    "\n",
    "        detailed_results_df = pd.DataFrame(people_metrics) \\\n",
    "                            .sort_values('interacted_count', ascending=False)\n",
    "        \n",
    "        global_precision_at_3 = detailed_results_df['precision@3'].mean()\n",
    "        global_recall_at_5 = detailed_results_df['hits@5_count'].sum() / float(detailed_results_df['interacted_count'].sum())\n",
    "        global_recall_at_10 = detailed_results_df['hits@10_count'].sum() / float(detailed_results_df['interacted_count'].sum())\n",
    "        \n",
    "        global_metrics = {'modelName': model.get_model_name(),\n",
    "                          'recall@5': global_recall_at_5,\n",
    "                          'recall@10': global_recall_at_10,\n",
    "                          'precision@3': global_precision_at_3}    \n",
    "        return global_metrics, detailed_results_df\n",
    "    \n",
    "model_evaluator = ModelEvaluator()"
   ]
  },
  {
   "cell_type": "markdown",
   "metadata": {
    "id": "q9HWgAPn1fxG",
    "slideshow": {
     "slide_type": "subslide"
    }
   },
   "source": [
    "## Задание 1\n",
    "\n",
    "Добавить расчет Average Precision и Mean Average Precision"
   ]
  },
  {
   "cell_type": "markdown",
   "metadata": {
    "_cell_guid": "96005510-c4ac-41c4-b60d-cb2ded15a71a",
    "_uuid": "ddb5580ac46252c2fde764a72a0d7b34c652e4d8",
    "id": "NPQdszyW0J0g",
    "slideshow": {
     "slide_type": "subslide"
    }
   },
   "source": [
    "# Content-Based Filtering model"
   ]
  },
  {
   "cell_type": "markdown",
   "metadata": {
    "id": "puKJmQzg1aoJ",
    "slideshow": {
     "slide_type": "subslide"
    }
   },
   "source": [
    "Переведем статьи в векторное представление"
   ]
  },
  {
   "cell_type": "code",
   "execution_count": 46,
   "metadata": {
    "_cell_guid": "aebda143-fc54-4bba-8e32-6919902d6af2",
    "_uuid": "8a623643872e9d09701cd1d0ce9dee4163279f3d",
    "colab": {
     "base_uri": "https://localhost:8080/"
    },
    "id": "KbcPWb720J0h",
    "outputId": "5e6a5d16-e507-4b04-8e3f-0f03ce89545d"
   },
   "outputs": [
    {
     "data": {
      "text/plain": [
       "<3047x5000 sparse matrix of type '<class 'numpy.float64'>'\n",
       "\twith 638928 stored elements in Compressed Sparse Row format>"
      ]
     },
     "execution_count": 46,
     "metadata": {},
     "output_type": "execute_result"
    }
   ],
   "source": [
    "# Ignoring stopwords (words with no semantics) from English and Portuguese (as we have a corpus with mixed languages)\n",
    "stopwords_list = stopwords.words('english') + stopwords.words('portuguese')\n",
    "\n",
    "\n",
    "# Trains a model whose vectors size is 5000, composed by the main unigrams and bigrams found in the corpus, ignoring stopwords\n",
    "vectorizer = TfidfVectorizer(analyzer='word',\n",
    "                     ngram_range=(1, 2),\n",
    "                     min_df=0.003,\n",
    "                     max_df=0.5,\n",
    "                     max_features=5000,\n",
    "                     stop_words=stopwords_list)\n",
    "\n",
    "item_ids = articles_df['contentId'].tolist()\n",
    "tfidf_matrix = vectorizer.fit_transform(articles_df['title'] + \"\" + articles_df['text'])\n",
    "tfidf_feature_names = vectorizer.get_feature_names_out()\n",
    "tfidf_matrix"
   ]
  },
  {
   "cell_type": "code",
   "execution_count": 47,
   "metadata": {
    "id": "h-Qxk0Jve4lk",
    "slideshow": {
     "slide_type": "subslide"
    }
   },
   "outputs": [],
   "source": [
    "x = scipy.sparse.csr_matrix.toarray(tfidf_matrix[0])"
   ]
  },
  {
   "cell_type": "code",
   "execution_count": 48,
   "metadata": {},
   "outputs": [
    {
     "data": {
      "text/plain": [
       "((1, 5000), 9.50309706256499)"
      ]
     },
     "execution_count": 48,
     "metadata": {},
     "output_type": "execute_result"
    }
   ],
   "source": [
    "x.shape, np.sum(x)"
   ]
  },
  {
   "cell_type": "code",
   "execution_count": 49,
   "metadata": {
    "colab": {
     "base_uri": "https://localhost:8080/"
    },
    "id": "qaIWSLh4pvFH",
    "outputId": "ad845355-dbc2-4f6f-9a5f-bc54db077a05"
   },
   "outputs": [
    {
     "data": {
      "text/plain": [
       "1.0"
      ]
     },
     "execution_count": 49,
     "metadata": {},
     "output_type": "execute_result"
    }
   ],
   "source": [
    "np.linalg.norm(x)"
   ]
  },
  {
   "cell_type": "markdown",
   "metadata": {
    "_cell_guid": "e265ff20-06d7-4daf-9c45-6d141c176820",
    "_uuid": "cb7221c8d676387647cdd049e2b096c9f2c1b6a0",
    "id": "DyCf7nmS0J0h"
   },
   "source": [
    "Профиль пользователя состоит из всех статьей, с которыми он взаимодействовал. "
   ]
  },
  {
   "cell_type": "code",
   "execution_count": 50,
   "metadata": {
    "_cell_guid": "62a5d822-9673-46ab-9e81-343006fed1c8",
    "_uuid": "52abadb8d20d8f42a9d6ca64cf061ad6e50e6f95",
    "id": "jfWgtq9Z0J0h"
   },
   "outputs": [],
   "source": [
    "def get_item_profile(item_id):\n",
    "    idx = item_ids.index(item_id)\n",
    "    item_profile = tfidf_matrix[idx:idx+1]\n",
    "    return item_profile\n",
    "\n",
    "def get_item_profiles(ids):\n",
    "    item_profiles_list = [get_item_profile(x) for x in ids]\n",
    "    item_profiles = scipy.sparse.vstack(item_profiles_list)\n",
    "    return item_profiles\n",
    "\n",
    "def build_users_profile(person_id, interactions_indexed_df):\n",
    "    interactions_person_df = interactions_indexed_df.loc[person_id]\n",
    "    user_item_profiles = get_item_profiles(interactions_person_df['contentId'])\n",
    "    \n",
    "    user_item_strengths = np.array(interactions_person_df['eventStrength']).reshape(-1,1)\n",
    "    \n",
    "    # Weighted average of item profiles by the interactions strength. Why multiply? \n",
    "    user_item_strengths_weighted_avg = np.sum(user_item_profiles.multiply(user_item_strengths), axis=0) \\\n",
    "                                              / np.sum(user_item_strengths)\n",
    "    user_profile_norm = sklearn.preprocessing.normalize(user_item_strengths_weighted_avg)\n",
    "    return user_profile_norm\n",
    "\n",
    "def build_users_profiles(): \n",
    "    interactions_indexed_df = interactions_train_df[interactions_train_df['contentId'] \\\n",
    "                                                   .isin(articles_df['contentId'])].set_index('personId')\n",
    "    user_profiles = {}\n",
    "    for person_id in interactions_indexed_df.index.unique():\n",
    "        user_profiles[person_id] = build_users_profile(person_id, interactions_indexed_df)\n",
    "    return user_profiles"
   ]
  },
  {
   "cell_type": "code",
   "execution_count": 51,
   "metadata": {
    "_cell_guid": "4a390c44-8d4a-40c9-8d09-e7423bb60e96",
    "_uuid": "4b115474b476319c74e1bf84c0d8edf9f8fc4229",
    "colab": {
     "base_uri": "https://localhost:8080/"
    },
    "id": "Wnu3Ggqt0J0h",
    "outputId": "fc8e20b3-3b23-424c-863b-7620dd9d0b80"
   },
   "outputs": [
    {
     "data": {
      "text/plain": [
       "579"
      ]
     },
     "execution_count": 51,
     "metadata": {},
     "output_type": "execute_result"
    }
   ],
   "source": [
    "import warnings\n",
    "# for np.matrix FutureWarning\n",
    "warnings.filterwarnings(\"ignore\", category=FutureWarning) \n",
    "# warnings.filterwarnings(\"ignore\", category=DeprecationWarning) \n",
    "\n",
    "user_profiles = build_users_profiles()\n",
    "len(user_profiles)"
   ]
  },
  {
   "cell_type": "markdown",
   "metadata": {
    "_cell_guid": "1245d0e4-2a86-46bd-84c7-b63764d53237",
    "_uuid": "fd330ebbb67061205d0f7e6a4116b757f0efb255",
    "id": "wCzojbs10J0h"
   },
   "source": [
    "Это профиль автора оригинального jupyter notebook. "
   ]
  },
  {
   "cell_type": "code",
   "execution_count": 52,
   "metadata": {
    "_cell_guid": "b12a6abe-acd0-4701-bf41-cedb753b57c9",
    "_uuid": "348ecd5b2d9259bd1a5161eb0734f6a7e18e4142",
    "colab": {
     "base_uri": "https://localhost:8080/",
     "height": 694
    },
    "id": "ZfC3vE8y0J0h",
    "outputId": "41331a1b-6c75-424f-ef26-b3205c794872"
   },
   "outputs": [
    {
     "name": "stdout",
     "output_type": "stream",
     "text": [
      "(1, 5000)\n"
     ]
    },
    {
     "data": {
      "text/html": [
       "<div>\n",
       "<style scoped>\n",
       "    .dataframe tbody tr th:only-of-type {\n",
       "        vertical-align: middle;\n",
       "    }\n",
       "\n",
       "    .dataframe tbody tr th {\n",
       "        vertical-align: top;\n",
       "    }\n",
       "\n",
       "    .dataframe thead th {\n",
       "        text-align: right;\n",
       "    }\n",
       "</style>\n",
       "<table border=\"1\" class=\"dataframe\">\n",
       "  <thead>\n",
       "    <tr style=\"text-align: right;\">\n",
       "      <th></th>\n",
       "      <th>token</th>\n",
       "      <th>relevance</th>\n",
       "    </tr>\n",
       "  </thead>\n",
       "  <tbody>\n",
       "    <tr>\n",
       "      <th>0</th>\n",
       "      <td>learning</td>\n",
       "      <td>0.301096</td>\n",
       "    </tr>\n",
       "    <tr>\n",
       "      <th>1</th>\n",
       "      <td>machine learning</td>\n",
       "      <td>0.254526</td>\n",
       "    </tr>\n",
       "    <tr>\n",
       "      <th>2</th>\n",
       "      <td>machine</td>\n",
       "      <td>0.247158</td>\n",
       "    </tr>\n",
       "    <tr>\n",
       "      <th>3</th>\n",
       "      <td>google</td>\n",
       "      <td>0.196238</td>\n",
       "    </tr>\n",
       "    <tr>\n",
       "      <th>4</th>\n",
       "      <td>data</td>\n",
       "      <td>0.180081</td>\n",
       "    </tr>\n",
       "    <tr>\n",
       "      <th>5</th>\n",
       "      <td>graph</td>\n",
       "      <td>0.118791</td>\n",
       "    </tr>\n",
       "    <tr>\n",
       "      <th>6</th>\n",
       "      <td>algorithms</td>\n",
       "      <td>0.112597</td>\n",
       "    </tr>\n",
       "    <tr>\n",
       "      <th>7</th>\n",
       "      <td>ai</td>\n",
       "      <td>0.103908</td>\n",
       "    </tr>\n",
       "    <tr>\n",
       "      <th>8</th>\n",
       "      <td>like</td>\n",
       "      <td>0.096942</td>\n",
       "    </tr>\n",
       "    <tr>\n",
       "      <th>9</th>\n",
       "      <td>human</td>\n",
       "      <td>0.078915</td>\n",
       "    </tr>\n",
       "    <tr>\n",
       "      <th>10</th>\n",
       "      <td>research</td>\n",
       "      <td>0.078734</td>\n",
       "    </tr>\n",
       "    <tr>\n",
       "      <th>11</th>\n",
       "      <td>algorithm</td>\n",
       "      <td>0.077890</td>\n",
       "    </tr>\n",
       "    <tr>\n",
       "      <th>12</th>\n",
       "      <td>language</td>\n",
       "      <td>0.076742</td>\n",
       "    </tr>\n",
       "    <tr>\n",
       "      <th>13</th>\n",
       "      <td>models</td>\n",
       "      <td>0.076237</td>\n",
       "    </tr>\n",
       "    <tr>\n",
       "      <th>14</th>\n",
       "      <td>people</td>\n",
       "      <td>0.073220</td>\n",
       "    </tr>\n",
       "    <tr>\n",
       "      <th>15</th>\n",
       "      <td>use</td>\n",
       "      <td>0.072181</td>\n",
       "    </tr>\n",
       "    <tr>\n",
       "      <th>16</th>\n",
       "      <td>intelligence</td>\n",
       "      <td>0.072027</td>\n",
       "    </tr>\n",
       "    <tr>\n",
       "      <th>17</th>\n",
       "      <td>artificial</td>\n",
       "      <td>0.068981</td>\n",
       "    </tr>\n",
       "    <tr>\n",
       "      <th>18</th>\n",
       "      <td>time</td>\n",
       "      <td>0.067591</td>\n",
       "    </tr>\n",
       "    <tr>\n",
       "      <th>19</th>\n",
       "      <td>tensorflow</td>\n",
       "      <td>0.066560</td>\n",
       "    </tr>\n",
       "  </tbody>\n",
       "</table>\n",
       "</div>"
      ],
      "text/plain": [
       "               token  relevance\n",
       "0           learning   0.301096\n",
       "1   machine learning   0.254526\n",
       "2            machine   0.247158\n",
       "3             google   0.196238\n",
       "4               data   0.180081\n",
       "5              graph   0.118791\n",
       "6         algorithms   0.112597\n",
       "7                 ai   0.103908\n",
       "8               like   0.096942\n",
       "9              human   0.078915\n",
       "10          research   0.078734\n",
       "11         algorithm   0.077890\n",
       "12          language   0.076742\n",
       "13            models   0.076237\n",
       "14            people   0.073220\n",
       "15               use   0.072181\n",
       "16      intelligence   0.072027\n",
       "17        artificial   0.068981\n",
       "18              time   0.067591\n",
       "19        tensorflow   0.066560"
      ]
     },
     "execution_count": 52,
     "metadata": {},
     "output_type": "execute_result"
    }
   ],
   "source": [
    "author_id = -1479311724257856983\n",
    "author_profile = user_profiles[author_id]\n",
    "print(author_profile.shape)\n",
    "pd.DataFrame(sorted(zip(tfidf_feature_names, \n",
    "                        user_profiles[-1479311724257856983].flatten().tolist()), key=lambda x: -x[1])[:20],\n",
    "             columns=['token', 'relevance'])"
   ]
  },
  {
   "cell_type": "code",
   "execution_count": 53,
   "metadata": {
    "id": "5Fb3pi9Ax6vU"
   },
   "outputs": [
    {
     "data": {
      "text/plain": [
       "array([0.14170787, 0.1312642 , 0.21366766, ..., 0.16456611, 0.31695328,\n",
       "       0.03900567])"
      ]
     },
     "execution_count": 53,
     "metadata": {},
     "output_type": "execute_result"
    }
   ],
   "source": [
    "cosine_sim_predictions = cosine_similarity(author_profile, tfidf_matrix)[0]\n",
    "cosine_sim_predictions"
   ]
  },
  {
   "cell_type": "code",
   "execution_count": 54,
   "metadata": {
    "colab": {
     "base_uri": "https://localhost:8080/"
    },
    "id": "v4JbFcQnyow3",
    "outputId": "08093517-1715-4f41-a87a-86529bbcd22c"
   },
   "outputs": [
    {
     "data": {
      "text/plain": [
       "timestamp                                                 1472776911\n",
       "eventType                                             CONTENT SHARED\n",
       "contentId                                        5250363310227021277\n",
       "authorPersonId                                  -1443636648652872475\n",
       "authorSessionId                                  6245842811012374102\n",
       "authorUserAgent                                                  NaN\n",
       "authorRegion                                                     NaN\n",
       "authorCountry                                                    NaN\n",
       "contentType                                                     HTML\n",
       "url                https://backchannel.com/how-google-is-remaking...\n",
       "title              How Google is Remaking Itself as a \"Machine Le...\n",
       "text               If you want to build artificial intelligence i...\n",
       "lang                                                              en\n",
       "Name: 2252, dtype: object"
      ]
     },
     "execution_count": 54,
     "metadata": {},
     "output_type": "execute_result"
    }
   ],
   "source": [
    "articles_df.iloc[cosine_sim_predictions.argmax()]"
   ]
  },
  {
   "cell_type": "code",
   "execution_count": 55,
   "metadata": {
    "_cell_guid": "e82114b3-a382-4590-a89c-9c3ccb79bde7",
    "_uuid": "06a8f67de0c9ed4d0ac426e6e56f168900cbfe28",
    "id": "3mjte3aY0J0i"
   },
   "outputs": [],
   "source": [
    "class ContentBasedRecommender:\n",
    "    \n",
    "    MODEL_NAME = 'Content-Based'\n",
    "    \n",
    "    def __init__(self, items_df=None):\n",
    "        self.item_ids = item_ids\n",
    "        self.items_df = items_df\n",
    "        \n",
    "    def get_model_name(self):\n",
    "        return self.MODEL_NAME\n",
    "        \n",
    "    def _get_similar_items_to_user_profile(self, person_id, topn=1000):\n",
    "        # Computes the cosine similarity between the user profile and all item profiles\n",
    "        cosine_similarities = cosine_similarity(user_profiles[person_id], tfidf_matrix)[0]\n",
    "        # Gets the top similar items\n",
    "        similar_indices = cosine_similarities.argsort()[-topn:]\n",
    "        # Sort the similar items by similarity\n",
    "        similar_items = sorted([(item_ids[i], cosine_similarities[i]) for i in similar_indices], key=lambda x: -x[1])\n",
    "        return similar_items\n",
    "        \n",
    "    def recommend_items(self, user_id, items_to_ignore=[], topn=10, verbose=False):\n",
    "        similar_items = self._get_similar_items_to_user_profile(user_id)\n",
    "        # Ignores items the user has already interacted\n",
    "        similar_items_filtered = list(filter(lambda x: x[0] not in items_to_ignore, similar_items))\n",
    "        \n",
    "        recommendations_df = pd.DataFrame(similar_items_filtered, columns=['contentId', 'recStrength']) \\\n",
    "                                    .head(topn)\n",
    "\n",
    "        if verbose:\n",
    "            if self.items_df is None:\n",
    "                raise Exception('\"items_df\" is required in verbose mode')\n",
    "\n",
    "            recommendations_df = recommendations_df.merge(self.items_df, how = 'left', \n",
    "                                                          left_on = 'contentId', \n",
    "                                                          right_on = 'contentId')[['recStrength', 'contentId', 'title', 'url', 'lang']]\n",
    "\n",
    "\n",
    "        return recommendations_df\n",
    "    \n",
    "content_based_recommender_model = ContentBasedRecommender(articles_df)"
   ]
  },
  {
   "cell_type": "code",
   "execution_count": 56,
   "metadata": {
    "_cell_guid": "beada036-9045-4d62-87cf-959ecfa406cf",
    "_uuid": "c95c8fdc22b1eb70c85d547b44d87e937a061b43",
    "colab": {
     "base_uri": "https://localhost:8080/"
    },
    "id": "Q59AbP-20J0i",
    "outputId": "539dfd12-5e56-4c21-d8ec-25d5ca34be8d",
    "scrolled": false
   },
   "outputs": [
    {
     "name": "stdout",
     "output_type": "stream",
     "text": [
      "Evaluating Content-Based Filtering model...\n",
      "100 users processed\n",
      "200 users processed\n",
      "300 users processed\n",
      "400 users processed\n",
      "500 users processed\n",
      "578 users processed\n",
      "\n"
     ]
    },
    {
     "data": {
      "text/plain": [
       "modelName      Content-Based\n",
       "recall@5            0.167199\n",
       "recall@10           0.263655\n",
       "precision@3         0.035694\n",
       "dtype: object"
      ]
     },
     "execution_count": 56,
     "metadata": {},
     "output_type": "execute_result"
    }
   ],
   "source": [
    "print('Evaluating Content-Based Filtering model...')\n",
    "cb_global_metrics, cb_detailed_results_df = model_evaluator.evaluate_model(content_based_recommender_model)\n",
    "print('')\n",
    "pd.Series(cb_global_metrics)\n",
    "#cb_detailed_results_df.head(10)"
   ]
  },
  {
   "cell_type": "markdown",
   "metadata": {
    "_cell_guid": "ffacb568-e972-4fc8-9b14-eb647c24a003",
    "_uuid": "a43201479e662d0b8d9bac847f990543cb77b11f",
    "id": "9Zub_z-m0J0j",
    "slideshow": {
     "slide_type": "subslide"
    }
   },
   "source": [
    "# Collaborative Filtering model"
   ]
  },
  {
   "cell_type": "markdown",
   "metadata": {
    "_cell_guid": "c7b68edb-45c7-44c7-bc0f-9a2d52e7f379",
    "_uuid": "bb26498296a6f90a0cb3c51e88b0ed39886c27ea",
    "id": "UR-PrJFx0J0j"
   },
   "source": [
    "## Matrix Factorization"
   ]
  },
  {
   "cell_type": "markdown",
   "metadata": {
    "_cell_guid": "7847c5c0-1122-4ced-86d1-a91e427969c0",
    "_uuid": "cd46a8bc46b6731b9d7f4cc0bf2c23bc99f14e1f",
    "id": "IvxZpKZG0J0j"
   },
   "source": [
    "Latent factor models compress user-item matrix into a low-dimensional representation in terms of latent factors. One advantage of using this approach is that instead of having a high dimensional matrix containing abundant number of missing values we will be dealing with a much smaller matrix in lower-dimensional space.  \n",
    "A reduced presentation could be utilized for either user-based or item-based neighborhood algorithms that are presented in the previous section. There are several advantages with this paradigm. It handles the sparsity of the original matrix better than memory based ones. Also comparing similarity on the resulting matrix is much more scalable especially in dealing with large sparse datasets.  "
   ]
  },
  {
   "cell_type": "markdown",
   "metadata": {
    "_cell_guid": "55cf72cb-61c0-4a38-a609-7283822ed052",
    "_uuid": "25d3c496a0e3e4935c906610dc97ed47e144c00f",
    "id": "6kYFR3PR0J0j"
   },
   "source": [
    "Here we a use popular latent factor model named [Singular Value Decomposition (SVD)](https://en.wikipedia.org/wiki/Singular_value_decomposition). There are other matrix factorization frameworks more specific to CF you might try, like [surprise](https://github.com/NicolasHug/Surprise), [mrec](https://github.com/Mendeley/mrec) or [python-recsys](https://github.com/ocelma/python-recsys). We chose a [SciPy](https://docs.scipy.org/doc/scipy/reference/generated/scipy.sparse.linalg.svds.html) implemenation of SVD because it is available on Kaggle kernels. \n",
    "\n",
    "P.S. See an example of SVD on a movies dataset in this [blog post](https://beckernick.github.io/matrix-factorization-recommender/)."
   ]
  },
  {
   "cell_type": "markdown",
   "metadata": {
    "_cell_guid": "e6168cd2-eea8-40ea-a153-4473950cdf08",
    "_uuid": "155b5e4618ec533b546029f94f2d5ffe39e1116f",
    "id": "0TFW4iB90J0j"
   },
   "source": [
    "An important decision is the number of factors to factor the user-item matrix. The higher the number of factors, the more precise is the factorization in the original matrix reconstructions. Therefore, if the model is allowed to  memorize too much details of the original matrix, it may not generalize well for data it was not trained on. Reducing the number of factors increases the model generalization."
   ]
  },
  {
   "cell_type": "code",
   "execution_count": 57,
   "metadata": {
    "_cell_guid": "9e73bff0-3136-445a-b3d2-36b875681b8a",
    "_uuid": "4a69f34bfef5054abc9cf27769e4b563f004ed17",
    "colab": {
     "base_uri": "https://localhost:8080/",
     "height": 444
    },
    "id": "UbzR2ZJf0J0j",
    "outputId": "94299177-1454-4827-a934-22e66b709b20"
   },
   "outputs": [
    {
     "data": {
      "text/html": [
       "<div>\n",
       "<style scoped>\n",
       "    .dataframe tbody tr th:only-of-type {\n",
       "        vertical-align: middle;\n",
       "    }\n",
       "\n",
       "    .dataframe tbody tr th {\n",
       "        vertical-align: top;\n",
       "    }\n",
       "\n",
       "    .dataframe thead th {\n",
       "        text-align: right;\n",
       "    }\n",
       "</style>\n",
       "<table border=\"1\" class=\"dataframe\">\n",
       "  <thead>\n",
       "    <tr style=\"text-align: right;\">\n",
       "      <th>contentId</th>\n",
       "      <th>-9222795471790223670</th>\n",
       "      <th>-9216926795620865886</th>\n",
       "      <th>-9194572880052200111</th>\n",
       "      <th>-9192549002213406534</th>\n",
       "      <th>-9190737901804729417</th>\n",
       "      <th>-9189659052158407108</th>\n",
       "      <th>-9184137057748005562</th>\n",
       "      <th>-9176143510534135851</th>\n",
       "      <th>-9172673334835262304</th>\n",
       "      <th>-9171475473795142532</th>\n",
       "      <th>...</th>\n",
       "      <th>9191014301634017491</th>\n",
       "      <th>9207286802575546269</th>\n",
       "      <th>9208127165664287660</th>\n",
       "      <th>9209629151177723638</th>\n",
       "      <th>9209886322932807692</th>\n",
       "      <th>9213260650272029784</th>\n",
       "      <th>9215261273565326920</th>\n",
       "      <th>9217155070834564627</th>\n",
       "      <th>9220445660318725468</th>\n",
       "      <th>9222265156747237864</th>\n",
       "    </tr>\n",
       "    <tr>\n",
       "      <th>personId</th>\n",
       "      <th></th>\n",
       "      <th></th>\n",
       "      <th></th>\n",
       "      <th></th>\n",
       "      <th></th>\n",
       "      <th></th>\n",
       "      <th></th>\n",
       "      <th></th>\n",
       "      <th></th>\n",
       "      <th></th>\n",
       "      <th></th>\n",
       "      <th></th>\n",
       "      <th></th>\n",
       "      <th></th>\n",
       "      <th></th>\n",
       "      <th></th>\n",
       "      <th></th>\n",
       "      <th></th>\n",
       "      <th></th>\n",
       "      <th></th>\n",
       "      <th></th>\n",
       "    </tr>\n",
       "  </thead>\n",
       "  <tbody>\n",
       "    <tr>\n",
       "      <th>-9223121837663643404</th>\n",
       "      <td>0.0</td>\n",
       "      <td>0.0</td>\n",
       "      <td>0.0</td>\n",
       "      <td>0.0</td>\n",
       "      <td>0.0</td>\n",
       "      <td>0.0</td>\n",
       "      <td>0.0</td>\n",
       "      <td>0.0</td>\n",
       "      <td>0.0</td>\n",
       "      <td>0.0</td>\n",
       "      <td>...</td>\n",
       "      <td>0.0</td>\n",
       "      <td>0.000000</td>\n",
       "      <td>0.0</td>\n",
       "      <td>0.0</td>\n",
       "      <td>0.0</td>\n",
       "      <td>0.0</td>\n",
       "      <td>0.0</td>\n",
       "      <td>0.0</td>\n",
       "      <td>0.0</td>\n",
       "      <td>0.0</td>\n",
       "    </tr>\n",
       "    <tr>\n",
       "      <th>-9172914609055320039</th>\n",
       "      <td>0.0</td>\n",
       "      <td>0.0</td>\n",
       "      <td>0.0</td>\n",
       "      <td>0.0</td>\n",
       "      <td>0.0</td>\n",
       "      <td>0.0</td>\n",
       "      <td>0.0</td>\n",
       "      <td>0.0</td>\n",
       "      <td>0.0</td>\n",
       "      <td>0.0</td>\n",
       "      <td>...</td>\n",
       "      <td>0.0</td>\n",
       "      <td>0.000000</td>\n",
       "      <td>0.0</td>\n",
       "      <td>0.0</td>\n",
       "      <td>0.0</td>\n",
       "      <td>0.0</td>\n",
       "      <td>0.0</td>\n",
       "      <td>0.0</td>\n",
       "      <td>0.0</td>\n",
       "      <td>0.0</td>\n",
       "    </tr>\n",
       "    <tr>\n",
       "      <th>-9120685872592674274</th>\n",
       "      <td>0.0</td>\n",
       "      <td>0.0</td>\n",
       "      <td>0.0</td>\n",
       "      <td>0.0</td>\n",
       "      <td>0.0</td>\n",
       "      <td>0.0</td>\n",
       "      <td>0.0</td>\n",
       "      <td>0.0</td>\n",
       "      <td>0.0</td>\n",
       "      <td>0.0</td>\n",
       "      <td>...</td>\n",
       "      <td>0.0</td>\n",
       "      <td>0.000000</td>\n",
       "      <td>0.0</td>\n",
       "      <td>0.0</td>\n",
       "      <td>0.0</td>\n",
       "      <td>0.0</td>\n",
       "      <td>0.0</td>\n",
       "      <td>0.0</td>\n",
       "      <td>0.0</td>\n",
       "      <td>0.0</td>\n",
       "    </tr>\n",
       "    <tr>\n",
       "      <th>-9109785559521267180</th>\n",
       "      <td>0.0</td>\n",
       "      <td>0.0</td>\n",
       "      <td>0.0</td>\n",
       "      <td>0.0</td>\n",
       "      <td>0.0</td>\n",
       "      <td>0.0</td>\n",
       "      <td>0.0</td>\n",
       "      <td>0.0</td>\n",
       "      <td>0.0</td>\n",
       "      <td>0.0</td>\n",
       "      <td>...</td>\n",
       "      <td>0.0</td>\n",
       "      <td>0.000000</td>\n",
       "      <td>0.0</td>\n",
       "      <td>0.0</td>\n",
       "      <td>0.0</td>\n",
       "      <td>0.0</td>\n",
       "      <td>0.0</td>\n",
       "      <td>0.0</td>\n",
       "      <td>0.0</td>\n",
       "      <td>0.0</td>\n",
       "    </tr>\n",
       "    <tr>\n",
       "      <th>-9047547311469006438</th>\n",
       "      <td>0.0</td>\n",
       "      <td>0.0</td>\n",
       "      <td>0.0</td>\n",
       "      <td>0.0</td>\n",
       "      <td>0.0</td>\n",
       "      <td>0.0</td>\n",
       "      <td>0.0</td>\n",
       "      <td>0.0</td>\n",
       "      <td>0.0</td>\n",
       "      <td>0.0</td>\n",
       "      <td>...</td>\n",
       "      <td>0.0</td>\n",
       "      <td>0.000000</td>\n",
       "      <td>0.0</td>\n",
       "      <td>0.0</td>\n",
       "      <td>0.0</td>\n",
       "      <td>0.0</td>\n",
       "      <td>0.0</td>\n",
       "      <td>0.0</td>\n",
       "      <td>0.0</td>\n",
       "      <td>0.0</td>\n",
       "    </tr>\n",
       "    <tr>\n",
       "      <th>-9016528795238256703</th>\n",
       "      <td>0.0</td>\n",
       "      <td>0.0</td>\n",
       "      <td>0.0</td>\n",
       "      <td>0.0</td>\n",
       "      <td>0.0</td>\n",
       "      <td>0.0</td>\n",
       "      <td>0.0</td>\n",
       "      <td>1.0</td>\n",
       "      <td>0.0</td>\n",
       "      <td>0.0</td>\n",
       "      <td>...</td>\n",
       "      <td>0.0</td>\n",
       "      <td>1.584963</td>\n",
       "      <td>0.0</td>\n",
       "      <td>0.0</td>\n",
       "      <td>0.0</td>\n",
       "      <td>0.0</td>\n",
       "      <td>0.0</td>\n",
       "      <td>0.0</td>\n",
       "      <td>0.0</td>\n",
       "      <td>0.0</td>\n",
       "    </tr>\n",
       "    <tr>\n",
       "      <th>-9009798162809551896</th>\n",
       "      <td>0.0</td>\n",
       "      <td>0.0</td>\n",
       "      <td>0.0</td>\n",
       "      <td>0.0</td>\n",
       "      <td>0.0</td>\n",
       "      <td>0.0</td>\n",
       "      <td>0.0</td>\n",
       "      <td>0.0</td>\n",
       "      <td>0.0</td>\n",
       "      <td>0.0</td>\n",
       "      <td>...</td>\n",
       "      <td>0.0</td>\n",
       "      <td>0.000000</td>\n",
       "      <td>0.0</td>\n",
       "      <td>0.0</td>\n",
       "      <td>0.0</td>\n",
       "      <td>0.0</td>\n",
       "      <td>0.0</td>\n",
       "      <td>0.0</td>\n",
       "      <td>0.0</td>\n",
       "      <td>0.0</td>\n",
       "    </tr>\n",
       "    <tr>\n",
       "      <th>-9001583565812478106</th>\n",
       "      <td>0.0</td>\n",
       "      <td>0.0</td>\n",
       "      <td>0.0</td>\n",
       "      <td>1.0</td>\n",
       "      <td>0.0</td>\n",
       "      <td>0.0</td>\n",
       "      <td>0.0</td>\n",
       "      <td>0.0</td>\n",
       "      <td>0.0</td>\n",
       "      <td>0.0</td>\n",
       "      <td>...</td>\n",
       "      <td>0.0</td>\n",
       "      <td>0.000000</td>\n",
       "      <td>0.0</td>\n",
       "      <td>0.0</td>\n",
       "      <td>0.0</td>\n",
       "      <td>0.0</td>\n",
       "      <td>0.0</td>\n",
       "      <td>0.0</td>\n",
       "      <td>0.0</td>\n",
       "      <td>0.0</td>\n",
       "    </tr>\n",
       "    <tr>\n",
       "      <th>-8994220765455693336</th>\n",
       "      <td>0.0</td>\n",
       "      <td>0.0</td>\n",
       "      <td>0.0</td>\n",
       "      <td>0.0</td>\n",
       "      <td>0.0</td>\n",
       "      <td>0.0</td>\n",
       "      <td>0.0</td>\n",
       "      <td>0.0</td>\n",
       "      <td>0.0</td>\n",
       "      <td>0.0</td>\n",
       "      <td>...</td>\n",
       "      <td>0.0</td>\n",
       "      <td>0.000000</td>\n",
       "      <td>0.0</td>\n",
       "      <td>0.0</td>\n",
       "      <td>0.0</td>\n",
       "      <td>0.0</td>\n",
       "      <td>0.0</td>\n",
       "      <td>0.0</td>\n",
       "      <td>0.0</td>\n",
       "      <td>0.0</td>\n",
       "    </tr>\n",
       "    <tr>\n",
       "      <th>-8891033171626175843</th>\n",
       "      <td>0.0</td>\n",
       "      <td>0.0</td>\n",
       "      <td>0.0</td>\n",
       "      <td>0.0</td>\n",
       "      <td>0.0</td>\n",
       "      <td>0.0</td>\n",
       "      <td>0.0</td>\n",
       "      <td>0.0</td>\n",
       "      <td>0.0</td>\n",
       "      <td>0.0</td>\n",
       "      <td>...</td>\n",
       "      <td>0.0</td>\n",
       "      <td>0.000000</td>\n",
       "      <td>0.0</td>\n",
       "      <td>0.0</td>\n",
       "      <td>0.0</td>\n",
       "      <td>0.0</td>\n",
       "      <td>0.0</td>\n",
       "      <td>0.0</td>\n",
       "      <td>0.0</td>\n",
       "      <td>0.0</td>\n",
       "    </tr>\n",
       "  </tbody>\n",
       "</table>\n",
       "<p>10 rows × 2911 columns</p>\n",
       "</div>"
      ],
      "text/plain": [
       "contentId             -9222795471790223670  -9216926795620865886  \\\n",
       "personId                                                           \n",
       "-9223121837663643404                   0.0                   0.0   \n",
       "-9172914609055320039                   0.0                   0.0   \n",
       "-9120685872592674274                   0.0                   0.0   \n",
       "-9109785559521267180                   0.0                   0.0   \n",
       "-9047547311469006438                   0.0                   0.0   \n",
       "-9016528795238256703                   0.0                   0.0   \n",
       "-9009798162809551896                   0.0                   0.0   \n",
       "-9001583565812478106                   0.0                   0.0   \n",
       "-8994220765455693336                   0.0                   0.0   \n",
       "-8891033171626175843                   0.0                   0.0   \n",
       "\n",
       "contentId             -9194572880052200111  -9192549002213406534  \\\n",
       "personId                                                           \n",
       "-9223121837663643404                   0.0                   0.0   \n",
       "-9172914609055320039                   0.0                   0.0   \n",
       "-9120685872592674274                   0.0                   0.0   \n",
       "-9109785559521267180                   0.0                   0.0   \n",
       "-9047547311469006438                   0.0                   0.0   \n",
       "-9016528795238256703                   0.0                   0.0   \n",
       "-9009798162809551896                   0.0                   0.0   \n",
       "-9001583565812478106                   0.0                   1.0   \n",
       "-8994220765455693336                   0.0                   0.0   \n",
       "-8891033171626175843                   0.0                   0.0   \n",
       "\n",
       "contentId             -9190737901804729417  -9189659052158407108  \\\n",
       "personId                                                           \n",
       "-9223121837663643404                   0.0                   0.0   \n",
       "-9172914609055320039                   0.0                   0.0   \n",
       "-9120685872592674274                   0.0                   0.0   \n",
       "-9109785559521267180                   0.0                   0.0   \n",
       "-9047547311469006438                   0.0                   0.0   \n",
       "-9016528795238256703                   0.0                   0.0   \n",
       "-9009798162809551896                   0.0                   0.0   \n",
       "-9001583565812478106                   0.0                   0.0   \n",
       "-8994220765455693336                   0.0                   0.0   \n",
       "-8891033171626175843                   0.0                   0.0   \n",
       "\n",
       "contentId             -9184137057748005562  -9176143510534135851  \\\n",
       "personId                                                           \n",
       "-9223121837663643404                   0.0                   0.0   \n",
       "-9172914609055320039                   0.0                   0.0   \n",
       "-9120685872592674274                   0.0                   0.0   \n",
       "-9109785559521267180                   0.0                   0.0   \n",
       "-9047547311469006438                   0.0                   0.0   \n",
       "-9016528795238256703                   0.0                   1.0   \n",
       "-9009798162809551896                   0.0                   0.0   \n",
       "-9001583565812478106                   0.0                   0.0   \n",
       "-8994220765455693336                   0.0                   0.0   \n",
       "-8891033171626175843                   0.0                   0.0   \n",
       "\n",
       "contentId             -9172673334835262304  -9171475473795142532  ...  \\\n",
       "personId                                                          ...   \n",
       "-9223121837663643404                   0.0                   0.0  ...   \n",
       "-9172914609055320039                   0.0                   0.0  ...   \n",
       "-9120685872592674274                   0.0                   0.0  ...   \n",
       "-9109785559521267180                   0.0                   0.0  ...   \n",
       "-9047547311469006438                   0.0                   0.0  ...   \n",
       "-9016528795238256703                   0.0                   0.0  ...   \n",
       "-9009798162809551896                   0.0                   0.0  ...   \n",
       "-9001583565812478106                   0.0                   0.0  ...   \n",
       "-8994220765455693336                   0.0                   0.0  ...   \n",
       "-8891033171626175843                   0.0                   0.0  ...   \n",
       "\n",
       "contentId              9191014301634017491   9207286802575546269  \\\n",
       "personId                                                           \n",
       "-9223121837663643404                   0.0              0.000000   \n",
       "-9172914609055320039                   0.0              0.000000   \n",
       "-9120685872592674274                   0.0              0.000000   \n",
       "-9109785559521267180                   0.0              0.000000   \n",
       "-9047547311469006438                   0.0              0.000000   \n",
       "-9016528795238256703                   0.0              1.584963   \n",
       "-9009798162809551896                   0.0              0.000000   \n",
       "-9001583565812478106                   0.0              0.000000   \n",
       "-8994220765455693336                   0.0              0.000000   \n",
       "-8891033171626175843                   0.0              0.000000   \n",
       "\n",
       "contentId              9208127165664287660   9209629151177723638  \\\n",
       "personId                                                           \n",
       "-9223121837663643404                   0.0                   0.0   \n",
       "-9172914609055320039                   0.0                   0.0   \n",
       "-9120685872592674274                   0.0                   0.0   \n",
       "-9109785559521267180                   0.0                   0.0   \n",
       "-9047547311469006438                   0.0                   0.0   \n",
       "-9016528795238256703                   0.0                   0.0   \n",
       "-9009798162809551896                   0.0                   0.0   \n",
       "-9001583565812478106                   0.0                   0.0   \n",
       "-8994220765455693336                   0.0                   0.0   \n",
       "-8891033171626175843                   0.0                   0.0   \n",
       "\n",
       "contentId              9209886322932807692   9213260650272029784  \\\n",
       "personId                                                           \n",
       "-9223121837663643404                   0.0                   0.0   \n",
       "-9172914609055320039                   0.0                   0.0   \n",
       "-9120685872592674274                   0.0                   0.0   \n",
       "-9109785559521267180                   0.0                   0.0   \n",
       "-9047547311469006438                   0.0                   0.0   \n",
       "-9016528795238256703                   0.0                   0.0   \n",
       "-9009798162809551896                   0.0                   0.0   \n",
       "-9001583565812478106                   0.0                   0.0   \n",
       "-8994220765455693336                   0.0                   0.0   \n",
       "-8891033171626175843                   0.0                   0.0   \n",
       "\n",
       "contentId              9215261273565326920   9217155070834564627  \\\n",
       "personId                                                           \n",
       "-9223121837663643404                   0.0                   0.0   \n",
       "-9172914609055320039                   0.0                   0.0   \n",
       "-9120685872592674274                   0.0                   0.0   \n",
       "-9109785559521267180                   0.0                   0.0   \n",
       "-9047547311469006438                   0.0                   0.0   \n",
       "-9016528795238256703                   0.0                   0.0   \n",
       "-9009798162809551896                   0.0                   0.0   \n",
       "-9001583565812478106                   0.0                   0.0   \n",
       "-8994220765455693336                   0.0                   0.0   \n",
       "-8891033171626175843                   0.0                   0.0   \n",
       "\n",
       "contentId              9220445660318725468   9222265156747237864  \n",
       "personId                                                          \n",
       "-9223121837663643404                   0.0                   0.0  \n",
       "-9172914609055320039                   0.0                   0.0  \n",
       "-9120685872592674274                   0.0                   0.0  \n",
       "-9109785559521267180                   0.0                   0.0  \n",
       "-9047547311469006438                   0.0                   0.0  \n",
       "-9016528795238256703                   0.0                   0.0  \n",
       "-9009798162809551896                   0.0                   0.0  \n",
       "-9001583565812478106                   0.0                   0.0  \n",
       "-8994220765455693336                   0.0                   0.0  \n",
       "-8891033171626175843                   0.0                   0.0  \n",
       "\n",
       "[10 rows x 2911 columns]"
      ]
     },
     "execution_count": 57,
     "metadata": {},
     "output_type": "execute_result"
    }
   ],
   "source": [
    "#Creating a sparse pivot table with users in rows and items in columns\n",
    "users_items_pivot_matrix_df = interactions_train_df.pivot(index='personId', \n",
    "                                                          columns='contentId', \n",
    "                                                          values='eventStrength').fillna(0)\n",
    "\n",
    "users_items_pivot_matrix_df.head(10)"
   ]
  },
  {
   "cell_type": "code",
   "execution_count": 58,
   "metadata": {
    "_cell_guid": "39c293cb-c8a7-49d1-a296-ade311bf2296",
    "_uuid": "38cc2200590bb84cd535669df8ee8177d81989eb",
    "colab": {
     "base_uri": "https://localhost:8080/"
    },
    "id": "bPuooQxp0J0k",
    "outputId": "d4a4bdf8-ec7b-4fd2-e32c-c42f60e9a1f8"
   },
   "outputs": [
    {
     "data": {
      "text/plain": [
       "array([[0., 0., 0., ..., 0., 0., 0.],\n",
       "       [0., 0., 0., ..., 0., 0., 0.],\n",
       "       [0., 0., 0., ..., 0., 0., 0.],\n",
       "       ...,\n",
       "       [0., 0., 0., ..., 0., 0., 0.],\n",
       "       [0., 0., 0., ..., 0., 0., 0.],\n",
       "       [0., 0., 0., ..., 0., 0., 0.]])"
      ]
     },
     "execution_count": 58,
     "metadata": {},
     "output_type": "execute_result"
    }
   ],
   "source": [
    "users_items_pivot_matrix = users_items_pivot_matrix_df.values\n",
    "users_items_pivot_matrix[:10]"
   ]
  },
  {
   "cell_type": "code",
   "execution_count": 59,
   "metadata": {
    "colab": {
     "base_uri": "https://localhost:8080/"
    },
    "id": "00DL0PtDhjS2",
    "outputId": "d96b448b-352e-45dd-b0a3-0e5e221b0a96"
   },
   "outputs": [
    {
     "data": {
      "text/plain": [
       "(579, 2911)"
      ]
     },
     "execution_count": 59,
     "metadata": {},
     "output_type": "execute_result"
    }
   ],
   "source": [
    "users_items_pivot_matrix.shape"
   ]
  },
  {
   "cell_type": "code",
   "execution_count": 60,
   "metadata": {
    "_cell_guid": "782aee35-da8d-45de-83bd-da38e44b3a43",
    "_uuid": "00ff9564c711e3d95c8b9a893c04e613249be42b",
    "colab": {
     "base_uri": "https://localhost:8080/"
    },
    "id": "H3BH7Cuv0J0k",
    "outputId": "f96e1b7d-7232-4351-f216-6e3dd343be49"
   },
   "outputs": [
    {
     "data": {
      "text/plain": [
       "[-9223121837663643404,\n",
       " -9172914609055320039,\n",
       " -9120685872592674274,\n",
       " -9109785559521267180,\n",
       " -9047547311469006438,\n",
       " -9016528795238256703,\n",
       " -9009798162809551896,\n",
       " -9001583565812478106,\n",
       " -8994220765455693336,\n",
       " -8891033171626175843]"
      ]
     },
     "execution_count": 60,
     "metadata": {},
     "output_type": "execute_result"
    }
   ],
   "source": [
    "users_ids = list(users_items_pivot_matrix_df.index)\n",
    "users_ids[:10]"
   ]
  },
  {
   "cell_type": "code",
   "execution_count": 61,
   "metadata": {
    "colab": {
     "base_uri": "https://localhost:8080/"
    },
    "id": "rECJbJnI0J0k",
    "outputId": "8be9eec0-026b-4160-c6e2-431e92526114"
   },
   "outputs": [
    {
     "data": {
      "text/plain": [
       "<579x2911 sparse matrix of type '<class 'numpy.float64'>'\n",
       "\twith 27533 stored elements in Compressed Sparse Row format>"
      ]
     },
     "execution_count": 61,
     "metadata": {},
     "output_type": "execute_result"
    }
   ],
   "source": [
    "users_items_pivot_sparse_matrix = csr_matrix(users_items_pivot_matrix)\n",
    "users_items_pivot_sparse_matrix"
   ]
  },
  {
   "cell_type": "code",
   "execution_count": 62,
   "metadata": {
    "_cell_guid": "8eb2f704-cbf4-4fe3-9532-baab1c8db872",
    "_uuid": "6322d8e7afa0ac49f0df5451e304b394f410a056",
    "id": "4I6ARSBR0J0k"
   },
   "outputs": [],
   "source": [
    "#The number of factors to factor the user-item matrix.\n",
    "NUMBER_OF_FACTORS_MF = 15\n",
    "#Performs matrix factorization of the original user item matrix\n",
    "#U, sigma, Vt = svds(users_items_pivot_matrix, k = NUMBER_OF_FACTORS_MF)\n",
    "U, sigma, Vt = svds(users_items_pivot_sparse_matrix, k = NUMBER_OF_FACTORS_MF)"
   ]
  },
  {
   "cell_type": "code",
   "execution_count": 63,
   "metadata": {
    "_cell_guid": "9b0001e9-d560-4b6f-95a7-ae6605a72a2b",
    "_uuid": "7f6757eb2997a448537b4f59a77a6022f45edc87",
    "colab": {
     "base_uri": "https://localhost:8080/"
    },
    "id": "zIYu6npz0J0k",
    "outputId": "c9b81c73-ad9b-4a40-cdae-6a9f67594ef7"
   },
   "outputs": [
    {
     "data": {
      "text/plain": [
       "(579, 15)"
      ]
     },
     "execution_count": 63,
     "metadata": {},
     "output_type": "execute_result"
    }
   ],
   "source": [
    "U.shape"
   ]
  },
  {
   "cell_type": "code",
   "execution_count": 64,
   "metadata": {
    "_cell_guid": "d59bac45-f8ac-422f-9a1f-c66063ca8235",
    "_uuid": "f1d0ab3e77b1c118c4867f71a4b55534e8ceb2f9",
    "colab": {
     "base_uri": "https://localhost:8080/"
    },
    "id": "AJTOQraf0J0l",
    "outputId": "b31e85b4-18df-4a07-9c5b-ca2353bbf672"
   },
   "outputs": [
    {
     "data": {
      "text/plain": [
       "(15, 2911)"
      ]
     },
     "execution_count": 64,
     "metadata": {},
     "output_type": "execute_result"
    }
   ],
   "source": [
    "Vt.shape"
   ]
  },
  {
   "cell_type": "code",
   "execution_count": 65,
   "metadata": {
    "_cell_guid": "98b34c7d-674d-4b83-93f9-54e6d19ae9df",
    "_uuid": "f0807b245c6f939daae6447ad00594eaabd2c134",
    "colab": {
     "base_uri": "https://localhost:8080/"
    },
    "id": "Jp0GbGvB0J0l",
    "outputId": "facded76-b306-4af3-e16d-c41185d6f5dc"
   },
   "outputs": [
    {
     "data": {
      "text/plain": [
       "(15, 15)"
      ]
     },
     "execution_count": 65,
     "metadata": {},
     "output_type": "execute_result"
    }
   ],
   "source": [
    "sigma = np.diag(sigma)\n",
    "sigma.shape"
   ]
  },
  {
   "cell_type": "markdown",
   "metadata": {
    "_cell_guid": "5cf974d4-ca0c-487a-8561-7952be1d2f16",
    "_uuid": "de8f01beee0d5fad5e4cfd614b7c86c36b827958",
    "id": "GSHD59aC0J0l"
   },
   "source": [
    "Восстановим оригинальную матрицу"
   ]
  },
  {
   "cell_type": "code",
   "execution_count": 66,
   "metadata": {
    "_cell_guid": "d8d09c7b-9a23-4e4f-a602-23ed20e18a1e",
    "_uuid": "66eafaba59d8ccf7dc1c02043881a64be1bba5d2",
    "colab": {
     "base_uri": "https://localhost:8080/"
    },
    "id": "tSHYAlOB0J0l",
    "outputId": "d3ff7585-bea0-4748-b3af-0f12160c3c86"
   },
   "outputs": [
    {
     "name": "stdout",
     "output_type": "stream",
     "text": [
      "(579, 15)\n",
      "(15, 2911)\n"
     ]
    },
    {
     "data": {
      "text/plain": [
       "array([[ 0.03884689,  0.00197415, -0.00641533, ..., -0.01781361,\n",
       "         0.01269934,  0.00483313],\n",
       "       [ 0.00633741,  0.00061755,  0.01266008, ...,  0.01764341,\n",
       "         0.01334771, -0.00054403],\n",
       "       [-0.00854964,  0.00158704, -0.01909456, ..., -0.00934293,\n",
       "         0.0227213 ,  0.00102611],\n",
       "       ...,\n",
       "       [-0.03380878,  0.01353069,  0.12074347, ..., -0.00900013,\n",
       "         0.09684967, -0.00107693],\n",
       "       [-0.01922095,  0.00066254,  0.01352422, ..., -0.00361609,\n",
       "         0.00790632, -0.00509767],\n",
       "       [-0.00593284,  0.00412424,  0.11886455, ..., -0.01055101,\n",
       "         0.05437229,  0.00106111]])"
      ]
     },
     "execution_count": 66,
     "metadata": {},
     "output_type": "execute_result"
    }
   ],
   "source": [
    "user_factors = np.dot(U, sigma)\n",
    "item_factors = Vt\n",
    "print(user_factors.shape)\n",
    "print(item_factors.shape)\n",
    "all_user_predicted_ratings = np.dot(user_factors, item_factors) \n",
    "all_user_predicted_ratings"
   ]
  },
  {
   "cell_type": "code",
   "execution_count": 67,
   "metadata": {
    "colab": {
     "base_uri": "https://localhost:8080/"
    },
    "id": "MDecXuK9-z-D",
    "outputId": "15625a49-91d7-47ff-e2c7-be8728447091"
   },
   "outputs": [
    {
     "data": {
      "text/plain": [
       "(579, 15)"
      ]
     },
     "execution_count": 67,
     "metadata": {},
     "output_type": "execute_result"
    }
   ],
   "source": [
    "user_factors.shape"
   ]
  },
  {
   "cell_type": "code",
   "execution_count": 68,
   "metadata": {
    "id": "0eWAJwj60J0l"
   },
   "outputs": [],
   "source": [
    "all_user_predicted_ratings_norm = (all_user_predicted_ratings - all_user_predicted_ratings.min()) \\\n",
    "                            / (all_user_predicted_ratings.max() - all_user_predicted_ratings.min())"
   ]
  },
  {
   "cell_type": "code",
   "execution_count": 69,
   "metadata": {},
   "outputs": [
    {
     "data": {
      "text/plain": [
       "array([[0.19729339, 0.19330345, 0.19239564, ..., 0.19116225, 0.19446401,\n",
       "        0.19361282],\n",
       "       [0.19377559, 0.19315666, 0.19445976, ..., 0.194999  , 0.19453417,\n",
       "        0.19303097],\n",
       "       [0.19216469, 0.19326156, 0.19102364, ..., 0.19207885, 0.19554847,\n",
       "        0.19320087],\n",
       "       ...,\n",
       "       [0.18943144, 0.19455397, 0.20615528, ..., 0.19211594, 0.20356977,\n",
       "        0.1929733 ],\n",
       "       [0.19100997, 0.19316153, 0.19455327, ..., 0.19269854, 0.19394536,\n",
       "        0.19253822],\n",
       "       [0.19244785, 0.19353611, 0.20595196, ..., 0.19194813, 0.19897336,\n",
       "        0.19320465]])"
      ]
     },
     "execution_count": 69,
     "metadata": {},
     "output_type": "execute_result"
    }
   ],
   "source": [
    "all_user_predicted_ratings_norm"
   ]
  },
  {
   "cell_type": "code",
   "execution_count": 70,
   "metadata": {
    "_cell_guid": "6664c5e4-14ab-47e2-a8ae-63699a531983",
    "_uuid": "1e6420b17affd1c786847b3f272d65a7ebb6b08e",
    "colab": {
     "base_uri": "https://localhost:8080/",
     "height": 444
    },
    "id": "fM997NXx0J0m",
    "outputId": "f7226e03-3432-4ae8-9fb0-c5e7c2dfc77e"
   },
   "outputs": [
    {
     "data": {
      "text/html": [
       "<div>\n",
       "<style scoped>\n",
       "    .dataframe tbody tr th:only-of-type {\n",
       "        vertical-align: middle;\n",
       "    }\n",
       "\n",
       "    .dataframe tbody tr th {\n",
       "        vertical-align: top;\n",
       "    }\n",
       "\n",
       "    .dataframe thead th {\n",
       "        text-align: right;\n",
       "    }\n",
       "</style>\n",
       "<table border=\"1\" class=\"dataframe\">\n",
       "  <thead>\n",
       "    <tr style=\"text-align: right;\">\n",
       "      <th></th>\n",
       "      <th>-9223121837663643404</th>\n",
       "      <th>-9172914609055320039</th>\n",
       "      <th>-9120685872592674274</th>\n",
       "      <th>-9109785559521267180</th>\n",
       "      <th>-9047547311469006438</th>\n",
       "      <th>-9016528795238256703</th>\n",
       "      <th>-9009798162809551896</th>\n",
       "      <th>-9001583565812478106</th>\n",
       "      <th>-8994220765455693336</th>\n",
       "      <th>-8891033171626175843</th>\n",
       "      <th>...</th>\n",
       "      <th>8920667914865172372</th>\n",
       "      <th>8941502917401491878</th>\n",
       "      <th>8968131284214320024</th>\n",
       "      <th>8992729171160464416</th>\n",
       "      <th>9013651444868609421</th>\n",
       "      <th>9105269044962898535</th>\n",
       "      <th>9109075639526981934</th>\n",
       "      <th>9148269800512008413</th>\n",
       "      <th>9187866633451383747</th>\n",
       "      <th>9210530975708218054</th>\n",
       "    </tr>\n",
       "    <tr>\n",
       "      <th>contentId</th>\n",
       "      <th></th>\n",
       "      <th></th>\n",
       "      <th></th>\n",
       "      <th></th>\n",
       "      <th></th>\n",
       "      <th></th>\n",
       "      <th></th>\n",
       "      <th></th>\n",
       "      <th></th>\n",
       "      <th></th>\n",
       "      <th></th>\n",
       "      <th></th>\n",
       "      <th></th>\n",
       "      <th></th>\n",
       "      <th></th>\n",
       "      <th></th>\n",
       "      <th></th>\n",
       "      <th></th>\n",
       "      <th></th>\n",
       "      <th></th>\n",
       "      <th></th>\n",
       "    </tr>\n",
       "  </thead>\n",
       "  <tbody>\n",
       "    <tr>\n",
       "      <th>-9222795471790223670</th>\n",
       "      <td>0.197293</td>\n",
       "      <td>0.193776</td>\n",
       "      <td>0.192165</td>\n",
       "      <td>0.196263</td>\n",
       "      <td>0.194465</td>\n",
       "      <td>0.172878</td>\n",
       "      <td>0.197465</td>\n",
       "      <td>0.196408</td>\n",
       "      <td>0.190187</td>\n",
       "      <td>0.190430</td>\n",
       "      <td>...</td>\n",
       "      <td>0.194699</td>\n",
       "      <td>0.192190</td>\n",
       "      <td>0.195809</td>\n",
       "      <td>0.192604</td>\n",
       "      <td>0.192920</td>\n",
       "      <td>0.195463</td>\n",
       "      <td>0.201805</td>\n",
       "      <td>0.189431</td>\n",
       "      <td>0.191010</td>\n",
       "      <td>0.192448</td>\n",
       "    </tr>\n",
       "    <tr>\n",
       "      <th>-9216926795620865886</th>\n",
       "      <td>0.193303</td>\n",
       "      <td>0.193157</td>\n",
       "      <td>0.193262</td>\n",
       "      <td>0.193029</td>\n",
       "      <td>0.193150</td>\n",
       "      <td>0.196378</td>\n",
       "      <td>0.193247</td>\n",
       "      <td>0.193374</td>\n",
       "      <td>0.193211</td>\n",
       "      <td>0.192990</td>\n",
       "      <td>...</td>\n",
       "      <td>0.193388</td>\n",
       "      <td>0.193221</td>\n",
       "      <td>0.192738</td>\n",
       "      <td>0.193461</td>\n",
       "      <td>0.192990</td>\n",
       "      <td>0.193079</td>\n",
       "      <td>0.194128</td>\n",
       "      <td>0.194554</td>\n",
       "      <td>0.193162</td>\n",
       "      <td>0.193536</td>\n",
       "    </tr>\n",
       "    <tr>\n",
       "      <th>-9194572880052200111</th>\n",
       "      <td>0.192396</td>\n",
       "      <td>0.194460</td>\n",
       "      <td>0.191024</td>\n",
       "      <td>0.191033</td>\n",
       "      <td>0.194158</td>\n",
       "      <td>0.200822</td>\n",
       "      <td>0.208383</td>\n",
       "      <td>0.197681</td>\n",
       "      <td>0.193213</td>\n",
       "      <td>0.193296</td>\n",
       "      <td>...</td>\n",
       "      <td>0.191739</td>\n",
       "      <td>0.193762</td>\n",
       "      <td>0.200898</td>\n",
       "      <td>0.195563</td>\n",
       "      <td>0.191956</td>\n",
       "      <td>0.193291</td>\n",
       "      <td>0.202385</td>\n",
       "      <td>0.206155</td>\n",
       "      <td>0.194553</td>\n",
       "      <td>0.205952</td>\n",
       "    </tr>\n",
       "    <tr>\n",
       "      <th>-9192549002213406534</th>\n",
       "      <td>0.195248</td>\n",
       "      <td>0.195555</td>\n",
       "      <td>0.192293</td>\n",
       "      <td>0.187520</td>\n",
       "      <td>0.191386</td>\n",
       "      <td>0.245042</td>\n",
       "      <td>0.272697</td>\n",
       "      <td>0.201302</td>\n",
       "      <td>0.190222</td>\n",
       "      <td>0.183381</td>\n",
       "      <td>...</td>\n",
       "      <td>0.187816</td>\n",
       "      <td>0.195538</td>\n",
       "      <td>0.192972</td>\n",
       "      <td>0.193967</td>\n",
       "      <td>0.196563</td>\n",
       "      <td>0.192914</td>\n",
       "      <td>0.204740</td>\n",
       "      <td>0.200002</td>\n",
       "      <td>0.193223</td>\n",
       "      <td>0.206300</td>\n",
       "    </tr>\n",
       "    <tr>\n",
       "      <th>-9190737901804729417</th>\n",
       "      <td>0.196517</td>\n",
       "      <td>0.193665</td>\n",
       "      <td>0.190318</td>\n",
       "      <td>0.195696</td>\n",
       "      <td>0.193077</td>\n",
       "      <td>0.201625</td>\n",
       "      <td>0.199610</td>\n",
       "      <td>0.193918</td>\n",
       "      <td>0.195111</td>\n",
       "      <td>0.196067</td>\n",
       "      <td>...</td>\n",
       "      <td>0.195942</td>\n",
       "      <td>0.193080</td>\n",
       "      <td>0.201863</td>\n",
       "      <td>0.193195</td>\n",
       "      <td>0.191880</td>\n",
       "      <td>0.194846</td>\n",
       "      <td>0.192252</td>\n",
       "      <td>0.190439</td>\n",
       "      <td>0.193561</td>\n",
       "      <td>0.191563</td>\n",
       "    </tr>\n",
       "    <tr>\n",
       "      <th>-9189659052158407108</th>\n",
       "      <td>0.195506</td>\n",
       "      <td>0.193325</td>\n",
       "      <td>0.196650</td>\n",
       "      <td>0.193675</td>\n",
       "      <td>0.194151</td>\n",
       "      <td>0.248327</td>\n",
       "      <td>0.215330</td>\n",
       "      <td>0.198478</td>\n",
       "      <td>0.193998</td>\n",
       "      <td>0.191868</td>\n",
       "      <td>...</td>\n",
       "      <td>0.194165</td>\n",
       "      <td>0.195528</td>\n",
       "      <td>0.192692</td>\n",
       "      <td>0.195283</td>\n",
       "      <td>0.194976</td>\n",
       "      <td>0.193723</td>\n",
       "      <td>0.203666</td>\n",
       "      <td>0.202546</td>\n",
       "      <td>0.193675</td>\n",
       "      <td>0.202741</td>\n",
       "    </tr>\n",
       "    <tr>\n",
       "      <th>-9184137057748005562</th>\n",
       "      <td>0.193465</td>\n",
       "      <td>0.193236</td>\n",
       "      <td>0.193092</td>\n",
       "      <td>0.193489</td>\n",
       "      <td>0.193313</td>\n",
       "      <td>0.194694</td>\n",
       "      <td>0.193265</td>\n",
       "      <td>0.193201</td>\n",
       "      <td>0.193441</td>\n",
       "      <td>0.193719</td>\n",
       "      <td>...</td>\n",
       "      <td>0.193527</td>\n",
       "      <td>0.193138</td>\n",
       "      <td>0.191417</td>\n",
       "      <td>0.193207</td>\n",
       "      <td>0.192952</td>\n",
       "      <td>0.193266</td>\n",
       "      <td>0.193513</td>\n",
       "      <td>0.193398</td>\n",
       "      <td>0.193209</td>\n",
       "      <td>0.193109</td>\n",
       "    </tr>\n",
       "    <tr>\n",
       "      <th>-9176143510534135851</th>\n",
       "      <td>0.195782</td>\n",
       "      <td>0.193003</td>\n",
       "      <td>0.200202</td>\n",
       "      <td>0.198451</td>\n",
       "      <td>0.193589</td>\n",
       "      <td>0.200844</td>\n",
       "      <td>0.201760</td>\n",
       "      <td>0.193026</td>\n",
       "      <td>0.194180</td>\n",
       "      <td>0.196328</td>\n",
       "      <td>...</td>\n",
       "      <td>0.197234</td>\n",
       "      <td>0.194198</td>\n",
       "      <td>0.194220</td>\n",
       "      <td>0.193165</td>\n",
       "      <td>0.196341</td>\n",
       "      <td>0.193831</td>\n",
       "      <td>0.197615</td>\n",
       "      <td>0.197630</td>\n",
       "      <td>0.193437</td>\n",
       "      <td>0.192803</td>\n",
       "    </tr>\n",
       "    <tr>\n",
       "      <th>-9172673334835262304</th>\n",
       "      <td>0.193578</td>\n",
       "      <td>0.193297</td>\n",
       "      <td>0.192434</td>\n",
       "      <td>0.192970</td>\n",
       "      <td>0.192827</td>\n",
       "      <td>0.200074</td>\n",
       "      <td>0.196479</td>\n",
       "      <td>0.193665</td>\n",
       "      <td>0.193127</td>\n",
       "      <td>0.193319</td>\n",
       "      <td>...</td>\n",
       "      <td>0.193255</td>\n",
       "      <td>0.193241</td>\n",
       "      <td>0.191784</td>\n",
       "      <td>0.193112</td>\n",
       "      <td>0.193197</td>\n",
       "      <td>0.193625</td>\n",
       "      <td>0.193320</td>\n",
       "      <td>0.193609</td>\n",
       "      <td>0.193407</td>\n",
       "      <td>0.193398</td>\n",
       "    </tr>\n",
       "    <tr>\n",
       "      <th>-9171475473795142532</th>\n",
       "      <td>0.195352</td>\n",
       "      <td>0.194024</td>\n",
       "      <td>0.191550</td>\n",
       "      <td>0.194862</td>\n",
       "      <td>0.192493</td>\n",
       "      <td>0.196167</td>\n",
       "      <td>0.196901</td>\n",
       "      <td>0.193767</td>\n",
       "      <td>0.194467</td>\n",
       "      <td>0.195353</td>\n",
       "      <td>...</td>\n",
       "      <td>0.195095</td>\n",
       "      <td>0.193333</td>\n",
       "      <td>0.200173</td>\n",
       "      <td>0.193251</td>\n",
       "      <td>0.193033</td>\n",
       "      <td>0.193907</td>\n",
       "      <td>0.193507</td>\n",
       "      <td>0.192193</td>\n",
       "      <td>0.193972</td>\n",
       "      <td>0.192422</td>\n",
       "    </tr>\n",
       "  </tbody>\n",
       "</table>\n",
       "<p>10 rows × 579 columns</p>\n",
       "</div>"
      ],
      "text/plain": [
       "                      -9223121837663643404  -9172914609055320039  \\\n",
       "contentId                                                          \n",
       "-9222795471790223670              0.197293              0.193776   \n",
       "-9216926795620865886              0.193303              0.193157   \n",
       "-9194572880052200111              0.192396              0.194460   \n",
       "-9192549002213406534              0.195248              0.195555   \n",
       "-9190737901804729417              0.196517              0.193665   \n",
       "-9189659052158407108              0.195506              0.193325   \n",
       "-9184137057748005562              0.193465              0.193236   \n",
       "-9176143510534135851              0.195782              0.193003   \n",
       "-9172673334835262304              0.193578              0.193297   \n",
       "-9171475473795142532              0.195352              0.194024   \n",
       "\n",
       "                      -9120685872592674274  -9109785559521267180  \\\n",
       "contentId                                                          \n",
       "-9222795471790223670              0.192165              0.196263   \n",
       "-9216926795620865886              0.193262              0.193029   \n",
       "-9194572880052200111              0.191024              0.191033   \n",
       "-9192549002213406534              0.192293              0.187520   \n",
       "-9190737901804729417              0.190318              0.195696   \n",
       "-9189659052158407108              0.196650              0.193675   \n",
       "-9184137057748005562              0.193092              0.193489   \n",
       "-9176143510534135851              0.200202              0.198451   \n",
       "-9172673334835262304              0.192434              0.192970   \n",
       "-9171475473795142532              0.191550              0.194862   \n",
       "\n",
       "                      -9047547311469006438  -9016528795238256703  \\\n",
       "contentId                                                          \n",
       "-9222795471790223670              0.194465              0.172878   \n",
       "-9216926795620865886              0.193150              0.196378   \n",
       "-9194572880052200111              0.194158              0.200822   \n",
       "-9192549002213406534              0.191386              0.245042   \n",
       "-9190737901804729417              0.193077              0.201625   \n",
       "-9189659052158407108              0.194151              0.248327   \n",
       "-9184137057748005562              0.193313              0.194694   \n",
       "-9176143510534135851              0.193589              0.200844   \n",
       "-9172673334835262304              0.192827              0.200074   \n",
       "-9171475473795142532              0.192493              0.196167   \n",
       "\n",
       "                      -9009798162809551896  -9001583565812478106  \\\n",
       "contentId                                                          \n",
       "-9222795471790223670              0.197465              0.196408   \n",
       "-9216926795620865886              0.193247              0.193374   \n",
       "-9194572880052200111              0.208383              0.197681   \n",
       "-9192549002213406534              0.272697              0.201302   \n",
       "-9190737901804729417              0.199610              0.193918   \n",
       "-9189659052158407108              0.215330              0.198478   \n",
       "-9184137057748005562              0.193265              0.193201   \n",
       "-9176143510534135851              0.201760              0.193026   \n",
       "-9172673334835262304              0.196479              0.193665   \n",
       "-9171475473795142532              0.196901              0.193767   \n",
       "\n",
       "                      -8994220765455693336  -8891033171626175843  ...  \\\n",
       "contentId                                                         ...   \n",
       "-9222795471790223670              0.190187              0.190430  ...   \n",
       "-9216926795620865886              0.193211              0.192990  ...   \n",
       "-9194572880052200111              0.193213              0.193296  ...   \n",
       "-9192549002213406534              0.190222              0.183381  ...   \n",
       "-9190737901804729417              0.195111              0.196067  ...   \n",
       "-9189659052158407108              0.193998              0.191868  ...   \n",
       "-9184137057748005562              0.193441              0.193719  ...   \n",
       "-9176143510534135851              0.194180              0.196328  ...   \n",
       "-9172673334835262304              0.193127              0.193319  ...   \n",
       "-9171475473795142532              0.194467              0.195353  ...   \n",
       "\n",
       "                       8920667914865172372   8941502917401491878  \\\n",
       "contentId                                                          \n",
       "-9222795471790223670              0.194699              0.192190   \n",
       "-9216926795620865886              0.193388              0.193221   \n",
       "-9194572880052200111              0.191739              0.193762   \n",
       "-9192549002213406534              0.187816              0.195538   \n",
       "-9190737901804729417              0.195942              0.193080   \n",
       "-9189659052158407108              0.194165              0.195528   \n",
       "-9184137057748005562              0.193527              0.193138   \n",
       "-9176143510534135851              0.197234              0.194198   \n",
       "-9172673334835262304              0.193255              0.193241   \n",
       "-9171475473795142532              0.195095              0.193333   \n",
       "\n",
       "                       8968131284214320024   8992729171160464416  \\\n",
       "contentId                                                          \n",
       "-9222795471790223670              0.195809              0.192604   \n",
       "-9216926795620865886              0.192738              0.193461   \n",
       "-9194572880052200111              0.200898              0.195563   \n",
       "-9192549002213406534              0.192972              0.193967   \n",
       "-9190737901804729417              0.201863              0.193195   \n",
       "-9189659052158407108              0.192692              0.195283   \n",
       "-9184137057748005562              0.191417              0.193207   \n",
       "-9176143510534135851              0.194220              0.193165   \n",
       "-9172673334835262304              0.191784              0.193112   \n",
       "-9171475473795142532              0.200173              0.193251   \n",
       "\n",
       "                       9013651444868609421   9105269044962898535  \\\n",
       "contentId                                                          \n",
       "-9222795471790223670              0.192920              0.195463   \n",
       "-9216926795620865886              0.192990              0.193079   \n",
       "-9194572880052200111              0.191956              0.193291   \n",
       "-9192549002213406534              0.196563              0.192914   \n",
       "-9190737901804729417              0.191880              0.194846   \n",
       "-9189659052158407108              0.194976              0.193723   \n",
       "-9184137057748005562              0.192952              0.193266   \n",
       "-9176143510534135851              0.196341              0.193831   \n",
       "-9172673334835262304              0.193197              0.193625   \n",
       "-9171475473795142532              0.193033              0.193907   \n",
       "\n",
       "                       9109075639526981934   9148269800512008413  \\\n",
       "contentId                                                          \n",
       "-9222795471790223670              0.201805              0.189431   \n",
       "-9216926795620865886              0.194128              0.194554   \n",
       "-9194572880052200111              0.202385              0.206155   \n",
       "-9192549002213406534              0.204740              0.200002   \n",
       "-9190737901804729417              0.192252              0.190439   \n",
       "-9189659052158407108              0.203666              0.202546   \n",
       "-9184137057748005562              0.193513              0.193398   \n",
       "-9176143510534135851              0.197615              0.197630   \n",
       "-9172673334835262304              0.193320              0.193609   \n",
       "-9171475473795142532              0.193507              0.192193   \n",
       "\n",
       "                       9187866633451383747   9210530975708218054  \n",
       "contentId                                                         \n",
       "-9222795471790223670              0.191010              0.192448  \n",
       "-9216926795620865886              0.193162              0.193536  \n",
       "-9194572880052200111              0.194553              0.205952  \n",
       "-9192549002213406534              0.193223              0.206300  \n",
       "-9190737901804729417              0.193561              0.191563  \n",
       "-9189659052158407108              0.193675              0.202741  \n",
       "-9184137057748005562              0.193209              0.193109  \n",
       "-9176143510534135851              0.193437              0.192803  \n",
       "-9172673334835262304              0.193407              0.193398  \n",
       "-9171475473795142532              0.193972              0.192422  \n",
       "\n",
       "[10 rows x 579 columns]"
      ]
     },
     "execution_count": 70,
     "metadata": {},
     "output_type": "execute_result"
    }
   ],
   "source": [
    "#Converting the reconstructed matrix back to a Pandas dataframe\n",
    "cf_preds_df = pd.DataFrame(all_user_predicted_ratings_norm, columns = users_items_pivot_matrix_df.columns, index=users_ids).transpose()\n",
    "cf_preds_df.head(10)"
   ]
  },
  {
   "cell_type": "code",
   "execution_count": 71,
   "metadata": {
    "_cell_guid": "9641fbce-f667-48f7-9142-85e486cc201d",
    "_uuid": "d51ffda7cbeab216ad6e1b449a6cec5000c780f4",
    "colab": {
     "base_uri": "https://localhost:8080/"
    },
    "id": "PXBoRUws0J0m",
    "outputId": "594440f1-f30f-461e-f093-36ada19ada16"
   },
   "outputs": [
    {
     "data": {
      "text/plain": [
       "579"
      ]
     },
     "execution_count": 71,
     "metadata": {},
     "output_type": "execute_result"
    }
   ],
   "source": [
    "len(cf_preds_df.columns)"
   ]
  },
  {
   "cell_type": "code",
   "execution_count": 72,
   "metadata": {
    "_cell_guid": "80f4d589-c8de-4fcf-b60e-e4576fe0b23a",
    "_uuid": "d25926c1a7bada2dee4aacefc93da38053341189",
    "id": "oJOhNg9y0J0m"
   },
   "outputs": [],
   "source": [
    "class CFRecommender:\n",
    "    \n",
    "    MODEL_NAME = 'Collaborative Filtering'\n",
    "    \n",
    "    def __init__(self, cf_predictions_df, items_df=None):\n",
    "        self.cf_predictions_df = cf_predictions_df\n",
    "        self.items_df = items_df\n",
    "        \n",
    "    def get_model_name(self):\n",
    "        return self.MODEL_NAME\n",
    "        \n",
    "    def recommend_items(self, user_id, items_to_ignore=[], topn=10, verbose=False):\n",
    "        # Get and sort the user's predictions\n",
    "        sorted_user_predictions = self.cf_predictions_df[user_id].sort_values(ascending=False) \\\n",
    "                                    .reset_index().rename(columns={user_id: 'recStrength'})\n",
    "\n",
    "        # Recommend the highest predicted rating movies that the user hasn't seen yet.\n",
    "        recommendations_df = sorted_user_predictions[~sorted_user_predictions['contentId'].isin(items_to_ignore)] \\\n",
    "                               .sort_values('recStrength', ascending = False) \\\n",
    "                               .head(topn)\n",
    "\n",
    "        if verbose:\n",
    "            if self.items_df is None:\n",
    "                raise Exception('\"items_df\" is required in verbose mode')\n",
    "\n",
    "            recommendations_df = recommendations_df.merge(self.items_df, how = 'left', \n",
    "                                                          left_on = 'contentId', \n",
    "                                                          right_on = 'contentId')[['recStrength', 'contentId', 'title', 'url', 'lang']]\n",
    "\n",
    "\n",
    "        return recommendations_df\n",
    "    \n",
    "cf_recommender_model = CFRecommender(cf_preds_df, articles_df)"
   ]
  },
  {
   "cell_type": "code",
   "execution_count": 73,
   "metadata": {
    "_cell_guid": "f4a2af7e-d368-432d-9ec5-d9229caf208a",
    "_uuid": "d80d307ff6b740b134ac2186f2659d468d3c2655",
    "colab": {
     "base_uri": "https://localhost:8080/"
    },
    "id": "6BIC8wLa0J0m",
    "outputId": "6f5ac1fb-db7b-46c9-ede0-9da96dd918c3"
   },
   "outputs": [
    {
     "name": "stdout",
     "output_type": "stream",
     "text": [
      "Evaluating Collaborative Filtering (SVD Matrix Factorization) model...\n",
      "100 users processed\n",
      "200 users processed\n",
      "300 users processed\n",
      "400 users processed\n",
      "500 users processed\n",
      "578 users processed\n",
      "\n"
     ]
    },
    {
     "data": {
      "text/plain": [
       "modelName      Collaborative Filtering\n",
       "recall@5                      0.325973\n",
       "recall@10                     0.460198\n",
       "precision@3                   0.083477\n",
       "dtype: object"
      ]
     },
     "execution_count": 73,
     "metadata": {},
     "output_type": "execute_result"
    }
   ],
   "source": [
    "print('Evaluating Collaborative Filtering (SVD Matrix Factorization) model...')\n",
    "cf_global_metrics, cf_detailed_results_df = model_evaluator.evaluate_model(cf_recommender_model)\n",
    "print('')\n",
    "pd.Series(cf_global_metrics)\n",
    "#cf_detailed_results_df.head(10)"
   ]
  },
  {
   "cell_type": "markdown",
   "metadata": {
    "id": "qLUquey3AGSF"
   },
   "source": [
    "## Задание 2\n",
    "\n",
    "Реализовать матричную факторизацию на базе AlternatingLeastSquares и посчитать метрики\n"
   ]
  },
  {
   "cell_type": "code",
   "execution_count": 74,
   "metadata": {
    "id": "KfLByvyLi1H7"
   },
   "outputs": [
    {
     "name": "stdout",
     "output_type": "stream",
     "text": [
      "Requirement already satisfied: implicit in /home/avalur/mkn_env/lib/python3.9/site-packages (0.4.8)\n",
      "Requirement already satisfied: numpy in /home/avalur/mkn_env/lib/python3.9/site-packages (from implicit) (1.21.5)\n",
      "Requirement already satisfied: tqdm>=4.27 in /home/avalur/mkn_env/lib/python3.9/site-packages (from implicit) (4.62.3)\n",
      "Requirement already satisfied: scipy>=0.16 in /home/avalur/mkn_env/lib/python3.9/site-packages (from implicit) (1.7.3)\n",
      "\u001b[33mWARNING: You are using pip version 21.3.1; however, version 22.0.4 is available.\n",
      "You should consider upgrading via the '/home/avalur/mkn_env/bin/python -m pip install --upgrade pip' command.\u001b[0m\n"
     ]
    }
   ],
   "source": [
    "!pip install implicit"
   ]
  },
  {
   "cell_type": "markdown",
   "metadata": {
    "id": "_U3ozBoBCRlL"
   },
   "source": [
    "## Задание 3\n",
    "\n",
    "Реализовать ансамбль рекомендательных систем (CF и CB моделей) и посчитать метрики. Предсказания этих моделей должны браться с весами (веса передаваться как параметры)  "
   ]
  },
  {
   "cell_type": "markdown",
   "metadata": {
    "_cell_guid": "60689e32-a091-4067-9aa6-3520d4d48af2",
    "_uuid": "24bc9679fb3bfc224aeda1b236e36ab17c468d18",
    "id": "T0E1dnWC0J0o"
   },
   "source": [
    "# Тестирование"
   ]
  },
  {
   "cell_type": "code",
   "execution_count": 75,
   "metadata": {
    "_cell_guid": "07d07d66-1092-4316-a852-d5895d364737",
    "_uuid": "5dad675fe82c4008691ac140e5e57fe29544a940",
    "id": "rZ2kDmjL0J0o"
   },
   "outputs": [],
   "source": [
    "def inspect_interactions(person_id, test_set=True):\n",
    "    if test_set:\n",
    "        interactions_df = interactions_test_indexed_df\n",
    "    else:\n",
    "        interactions_df = interactions_train_indexed_df\n",
    "    return interactions_df.loc[person_id].merge(articles_df, how = 'left', \n",
    "                                                      left_on = 'contentId', \n",
    "                                                      right_on = 'contentId') \\\n",
    "                          .sort_values('eventStrength', ascending = False)[['eventStrength', \n",
    "                                                                          'contentId',\n",
    "                                                                          'title', 'url', 'lang']]"
   ]
  },
  {
   "cell_type": "markdown",
   "metadata": {
    "_cell_guid": "b76a6f66-6aec-47af-a8f6-6c594781cddc",
    "_uuid": "e377b6a862349fa8483deea70f1c362117f25001",
    "id": "M_mSLgGn0J0o",
    "slideshow": {
     "slide_type": "subslide"
    }
   },
   "source": [
    "Интересы автора **machine learning**, **deep learning**, **artificial intelligence**, and **google cloud platform**."
   ]
  },
  {
   "cell_type": "code",
   "execution_count": 76,
   "metadata": {
    "_cell_guid": "ec962ce2-0593-4d29-8383-57dc9e785589",
    "_uuid": "d850f080e3a24aab664c10f7ab1a9eb3dc5bed39",
    "colab": {
     "base_uri": "https://localhost:8080/",
     "height": 677
    },
    "id": "gZ-UD3Uy0J0p",
    "outputId": "22f64dc6-9ce3-42f0-b587-7b2682242b8a",
    "slideshow": {
     "slide_type": "fragment"
    }
   },
   "outputs": [
    {
     "data": {
      "text/html": [
       "<div>\n",
       "<style scoped>\n",
       "    .dataframe tbody tr th:only-of-type {\n",
       "        vertical-align: middle;\n",
       "    }\n",
       "\n",
       "    .dataframe tbody tr th {\n",
       "        vertical-align: top;\n",
       "    }\n",
       "\n",
       "    .dataframe thead th {\n",
       "        text-align: right;\n",
       "    }\n",
       "</style>\n",
       "<table border=\"1\" class=\"dataframe\">\n",
       "  <thead>\n",
       "    <tr style=\"text-align: right;\">\n",
       "      <th></th>\n",
       "      <th>eventStrength</th>\n",
       "      <th>contentId</th>\n",
       "      <th>title</th>\n",
       "      <th>url</th>\n",
       "      <th>lang</th>\n",
       "    </tr>\n",
       "  </thead>\n",
       "  <tbody>\n",
       "    <tr>\n",
       "      <th>48</th>\n",
       "      <td>4.285402</td>\n",
       "      <td>7342707578347442862</td>\n",
       "      <td>At eBay, Machine Learning is Driving Innovativ...</td>\n",
       "      <td>https://www.ebayinc.com/stories/news/at-ebay-m...</td>\n",
       "      <td>en</td>\n",
       "    </tr>\n",
       "    <tr>\n",
       "      <th>86</th>\n",
       "      <td>4.044394</td>\n",
       "      <td>-4460374799273064357</td>\n",
       "      <td>Deep Learning for Chatbots, Part 1 - Introduction</td>\n",
       "      <td>http://www.wildml.com/2016/04/deep-learning-fo...</td>\n",
       "      <td>en</td>\n",
       "    </tr>\n",
       "    <tr>\n",
       "      <th>107</th>\n",
       "      <td>3.906891</td>\n",
       "      <td>2589533162305407436</td>\n",
       "      <td>6 reasons why I like KeystoneML</td>\n",
       "      <td>http://radar.oreilly.com/2015/07/6-reasons-why...</td>\n",
       "      <td>en</td>\n",
       "    </tr>\n",
       "    <tr>\n",
       "      <th>51</th>\n",
       "      <td>3.700440</td>\n",
       "      <td>5258604889412591249</td>\n",
       "      <td>Machine Learning Is No Longer Just for Experts</td>\n",
       "      <td>https://hbr.org/2016/10/machine-learning-is-no...</td>\n",
       "      <td>en</td>\n",
       "    </tr>\n",
       "    <tr>\n",
       "      <th>97</th>\n",
       "      <td>3.523562</td>\n",
       "      <td>-4944551138301474550</td>\n",
       "      <td>Algorithms and architecture for job recommenda...</td>\n",
       "      <td>https://www.oreilly.com/ideas/algorithms-and-a...</td>\n",
       "      <td>en</td>\n",
       "    </tr>\n",
       "    <tr>\n",
       "      <th>20</th>\n",
       "      <td>3.459432</td>\n",
       "      <td>-532999578436827210</td>\n",
       "      <td>IBM Seeks to Simplify Graph with New Titan Ser...</td>\n",
       "      <td>https://www.datanami.com/2016/07/27/ibm-seeks-...</td>\n",
       "      <td>en</td>\n",
       "    </tr>\n",
       "    <tr>\n",
       "      <th>90</th>\n",
       "      <td>3.459432</td>\n",
       "      <td>-8377626164558006982</td>\n",
       "      <td>Bad Writing Is Destroying Your Company's Produ...</td>\n",
       "      <td>https://hbr.org/2016/09/bad-writing-is-destroy...</td>\n",
       "      <td>en</td>\n",
       "    </tr>\n",
       "    <tr>\n",
       "      <th>60</th>\n",
       "      <td>3.459432</td>\n",
       "      <td>444378495316508239</td>\n",
       "      <td>How to choose algorithms for Microsoft Azure M...</td>\n",
       "      <td>https://azure.microsoft.com/en-us/documentatio...</td>\n",
       "      <td>en</td>\n",
       "    </tr>\n",
       "    <tr>\n",
       "      <th>55</th>\n",
       "      <td>3.459432</td>\n",
       "      <td>-5658245291907121574</td>\n",
       "      <td>Machine Learning and the VP Debate</td>\n",
       "      <td>https://medium.com/@srobtweets/machine-learnin...</td>\n",
       "      <td>en</td>\n",
       "    </tr>\n",
       "    <tr>\n",
       "      <th>79</th>\n",
       "      <td>3.321928</td>\n",
       "      <td>-8085935119790093311</td>\n",
       "      <td>Graph Capabilities with the Elastic Stack</td>\n",
       "      <td>https://www.elastic.co/webinars/sneak-peek-of-...</td>\n",
       "      <td>en</td>\n",
       "    </tr>\n",
       "  </tbody>\n",
       "</table>\n",
       "</div>"
      ],
      "text/plain": [
       "     eventStrength            contentId  \\\n",
       "48        4.285402  7342707578347442862   \n",
       "86        4.044394 -4460374799273064357   \n",
       "107       3.906891  2589533162305407436   \n",
       "51        3.700440  5258604889412591249   \n",
       "97        3.523562 -4944551138301474550   \n",
       "20        3.459432  -532999578436827210   \n",
       "90        3.459432 -8377626164558006982   \n",
       "60        3.459432   444378495316508239   \n",
       "55        3.459432 -5658245291907121574   \n",
       "79        3.321928 -8085935119790093311   \n",
       "\n",
       "                                                 title  \\\n",
       "48   At eBay, Machine Learning is Driving Innovativ...   \n",
       "86   Deep Learning for Chatbots, Part 1 - Introduction   \n",
       "107                    6 reasons why I like KeystoneML   \n",
       "51      Machine Learning Is No Longer Just for Experts   \n",
       "97   Algorithms and architecture for job recommenda...   \n",
       "20   IBM Seeks to Simplify Graph with New Titan Ser...   \n",
       "90   Bad Writing Is Destroying Your Company's Produ...   \n",
       "60   How to choose algorithms for Microsoft Azure M...   \n",
       "55                  Machine Learning and the VP Debate   \n",
       "79           Graph Capabilities with the Elastic Stack   \n",
       "\n",
       "                                                   url lang  \n",
       "48   https://www.ebayinc.com/stories/news/at-ebay-m...   en  \n",
       "86   http://www.wildml.com/2016/04/deep-learning-fo...   en  \n",
       "107  http://radar.oreilly.com/2015/07/6-reasons-why...   en  \n",
       "51   https://hbr.org/2016/10/machine-learning-is-no...   en  \n",
       "97   https://www.oreilly.com/ideas/algorithms-and-a...   en  \n",
       "20   https://www.datanami.com/2016/07/27/ibm-seeks-...   en  \n",
       "90   https://hbr.org/2016/09/bad-writing-is-destroy...   en  \n",
       "60   https://azure.microsoft.com/en-us/documentatio...   en  \n",
       "55   https://medium.com/@srobtweets/machine-learnin...   en  \n",
       "79   https://www.elastic.co/webinars/sneak-peek-of-...   en  "
      ]
     },
     "execution_count": 76,
     "metadata": {},
     "output_type": "execute_result"
    }
   ],
   "source": [
    "inspect_interactions(author_id, test_set=False).head(10)"
   ]
  },
  {
   "cell_type": "markdown",
   "metadata": {
    "_cell_guid": "c6427984-842a-4d61-8a23-580b93e0fa12",
    "_uuid": "a6d56dc1c9d14e39d95e11a6f616ca2c577cd37f",
    "id": "rrqkajKR0J0p",
    "slideshow": {
     "slide_type": "fragment"
    }
   },
   "source": [
    "И рекомендации "
   ]
  },
  {
   "cell_type": "code",
   "execution_count": 77,
   "metadata": {
    "_cell_guid": "71944eb4-51ee-4e23-8643-ef2abe83822e",
    "_uuid": "af890f5ca9b3ae92bfdb51e61af6d5737aaf8e56",
    "colab": {
     "base_uri": "https://localhost:8080/",
     "height": 677
    },
    "id": "kaTFdmCI0J0p",
    "outputId": "4347b8bb-66f2-40bd-c237-13548fa72859",
    "slideshow": {
     "slide_type": "-"
    }
   },
   "outputs": [
    {
     "data": {
      "text/html": [
       "<div>\n",
       "<style scoped>\n",
       "    .dataframe tbody tr th:only-of-type {\n",
       "        vertical-align: middle;\n",
       "    }\n",
       "\n",
       "    .dataframe tbody tr th {\n",
       "        vertical-align: top;\n",
       "    }\n",
       "\n",
       "    .dataframe thead th {\n",
       "        text-align: right;\n",
       "    }\n",
       "</style>\n",
       "<table border=\"1\" class=\"dataframe\">\n",
       "  <thead>\n",
       "    <tr style=\"text-align: right;\">\n",
       "      <th></th>\n",
       "      <th>recStrength</th>\n",
       "      <th>contentId</th>\n",
       "      <th>title</th>\n",
       "      <th>url</th>\n",
       "      <th>lang</th>\n",
       "    </tr>\n",
       "  </thead>\n",
       "  <tbody>\n",
       "    <tr>\n",
       "      <th>0</th>\n",
       "      <td>0.293630</td>\n",
       "      <td>-8085935119790093311</td>\n",
       "      <td>Graph Capabilities with the Elastic Stack</td>\n",
       "      <td>https://www.elastic.co/webinars/sneak-peek-of-...</td>\n",
       "      <td>en</td>\n",
       "    </tr>\n",
       "    <tr>\n",
       "      <th>1</th>\n",
       "      <td>0.291452</td>\n",
       "      <td>-6467708104873171151</td>\n",
       "      <td>5 reasons your employees aren't sharing their ...</td>\n",
       "      <td>http://justcuriousblog.com/2016/04/5-reasons-y...</td>\n",
       "      <td>en</td>\n",
       "    </tr>\n",
       "    <tr>\n",
       "      <th>2</th>\n",
       "      <td>0.286092</td>\n",
       "      <td>-6727357771678896471</td>\n",
       "      <td>This Super Accurate Portrait Selection Tech Us...</td>\n",
       "      <td>http://petapixel.com/2016/06/29/super-accurate...</td>\n",
       "      <td>en</td>\n",
       "    </tr>\n",
       "    <tr>\n",
       "      <th>3</th>\n",
       "      <td>0.283065</td>\n",
       "      <td>5258604889412591249</td>\n",
       "      <td>Machine Learning Is No Longer Just for Experts</td>\n",
       "      <td>https://hbr.org/2016/10/machine-learning-is-no...</td>\n",
       "      <td>en</td>\n",
       "    </tr>\n",
       "    <tr>\n",
       "      <th>4</th>\n",
       "      <td>0.279078</td>\n",
       "      <td>-7126520323752764957</td>\n",
       "      <td>How Google is Remaking Itself as a \"Machine Le...</td>\n",
       "      <td>https://backchannel.com/how-google-is-remaking...</td>\n",
       "      <td>en</td>\n",
       "    </tr>\n",
       "    <tr>\n",
       "      <th>5</th>\n",
       "      <td>0.278863</td>\n",
       "      <td>3320201327008235211</td>\n",
       "      <td>How Mark Zuckerberg Led Facebook's War to Crus...</td>\n",
       "      <td>http://www.vanityfair.com/news/2016/06/how-mar...</td>\n",
       "      <td>en</td>\n",
       "    </tr>\n",
       "    <tr>\n",
       "      <th>6</th>\n",
       "      <td>0.278280</td>\n",
       "      <td>4118743389464105405</td>\n",
       "      <td>Why Google App Engine rocks: A Google engineer...</td>\n",
       "      <td>https://cloudplatform.googleblog.com/2016/04/w...</td>\n",
       "      <td>en</td>\n",
       "    </tr>\n",
       "    <tr>\n",
       "      <th>7</th>\n",
       "      <td>0.274187</td>\n",
       "      <td>1549650080907932816</td>\n",
       "      <td>Spark comparison: AWS vs. GCP</td>\n",
       "      <td>https://www.oreilly.com/ideas/spark-comparison...</td>\n",
       "      <td>en</td>\n",
       "    </tr>\n",
       "    <tr>\n",
       "      <th>8</th>\n",
       "      <td>0.273819</td>\n",
       "      <td>4241385837165861843</td>\n",
       "      <td>Understanding the Twitter topic Tracker</td>\n",
       "      <td>https://unionmetrics.zendesk.com/hc/en-us/arti...</td>\n",
       "      <td>en</td>\n",
       "    </tr>\n",
       "    <tr>\n",
       "      <th>9</th>\n",
       "      <td>0.272217</td>\n",
       "      <td>2468005329717107277</td>\n",
       "      <td>How Netflix does A/B Testing - uxdesign.cc - U...</td>\n",
       "      <td>https://uxdesign.cc/how-netflix-does-a-b-testi...</td>\n",
       "      <td>en</td>\n",
       "    </tr>\n",
       "  </tbody>\n",
       "</table>\n",
       "</div>"
      ],
      "text/plain": [
       "   recStrength            contentId  \\\n",
       "0     0.293630 -8085935119790093311   \n",
       "1     0.291452 -6467708104873171151   \n",
       "2     0.286092 -6727357771678896471   \n",
       "3     0.283065  5258604889412591249   \n",
       "4     0.279078 -7126520323752764957   \n",
       "5     0.278863  3320201327008235211   \n",
       "6     0.278280  4118743389464105405   \n",
       "7     0.274187  1549650080907932816   \n",
       "8     0.273819  4241385837165861843   \n",
       "9     0.272217  2468005329717107277   \n",
       "\n",
       "                                               title  \\\n",
       "0          Graph Capabilities with the Elastic Stack   \n",
       "1  5 reasons your employees aren't sharing their ...   \n",
       "2  This Super Accurate Portrait Selection Tech Us...   \n",
       "3     Machine Learning Is No Longer Just for Experts   \n",
       "4  How Google is Remaking Itself as a \"Machine Le...   \n",
       "5  How Mark Zuckerberg Led Facebook's War to Crus...   \n",
       "6  Why Google App Engine rocks: A Google engineer...   \n",
       "7                      Spark comparison: AWS vs. GCP   \n",
       "8            Understanding the Twitter topic Tracker   \n",
       "9  How Netflix does A/B Testing - uxdesign.cc - U...   \n",
       "\n",
       "                                                 url lang  \n",
       "0  https://www.elastic.co/webinars/sneak-peek-of-...   en  \n",
       "1  http://justcuriousblog.com/2016/04/5-reasons-y...   en  \n",
       "2  http://petapixel.com/2016/06/29/super-accurate...   en  \n",
       "3  https://hbr.org/2016/10/machine-learning-is-no...   en  \n",
       "4  https://backchannel.com/how-google-is-remaking...   en  \n",
       "5  http://www.vanityfair.com/news/2016/06/how-mar...   en  \n",
       "6  https://cloudplatform.googleblog.com/2016/04/w...   en  \n",
       "7  https://www.oreilly.com/ideas/spark-comparison...   en  \n",
       "8  https://unionmetrics.zendesk.com/hc/en-us/arti...   en  \n",
       "9  https://uxdesign.cc/how-netflix-does-a-b-testi...   en  "
      ]
     },
     "execution_count": 77,
     "metadata": {},
     "output_type": "execute_result"
    }
   ],
   "source": [
    "cf_recommender_model.recommend_items(author_id, topn=10, verbose=True)"
   ]
  },
  {
   "cell_type": "markdown",
   "metadata": {
    "_cell_guid": "75bf1701-e83c-4440-b088-858380e584e3",
    "_uuid": "72a8ec0dc47d567c6a891f51622747154075058d",
    "id": "DYthohIA0J0p"
   },
   "source": [
    "# Заключение"
   ]
  },
  {
   "cell_type": "markdown",
   "metadata": {
    "id": "Ape7EOf_BZa0"
   },
   "source": [
    "## Задача рекомендации\n",
    "- задача регрессии\n",
    "- задача классификации (бинарной, многоклассовой)\n",
    "- задача ранжирования\n",
    "\n",
    "\n",
    "\n",
    "\n"
   ]
  },
  {
   "cell_type": "markdown",
   "metadata": {
    "id": "_w4liJUx7waY"
   },
   "source": [
    "## Модели"
   ]
  },
  {
   "cell_type": "markdown",
   "metadata": {
    "id": "kxdKEf5p70ux"
   },
   "source": [
    "- Matrix Factorization (SVD, ALS, SLIM ...)\n",
    "- Factorization Machines\n",
    "- Random Walk\n",
    "- Linear Models\n",
    "- Deep Neural Networks\n",
    "- Variational Auto Encoder\n",
    "- Graph Convolution Network\n",
    "- ...\n"
   ]
  },
  {
   "cell_type": "markdown",
   "metadata": {
    "id": "zkNqU4JuOjkA"
   },
   "source": [
    "## Метрики\n",
    "\n",
    "\n",
    "https://en.wikipedia.org/wiki/Evaluation_measures_(information_retrieval)#Mean_average_precision"
   ]
  },
  {
   "cell_type": "markdown",
   "metadata": {
    "id": "r3E2ZhT5GAgG"
   },
   "source": [
    "Given positive/negative rates for each class k, the resulting score is computed this way: $$Precision_{micro} = \\frac{\\sum_{k \\in C} TP_k}{\\sum_{k \\in C} TP_k + FP_k}$$ $$Recall_{micro} = \\frac{\\sum_{k \\in C} TP_k}{\\sum_{k \\in C} TP_k + FN_k}$$ F1-score is the harmonic mean of precision and recall $$MeanFScore = F1_{micro}= \\frac{2 Precision_{micro} Recall_{micro}}{Precision_{micro} + Recall_{micro}}$$"
   ]
  },
  {
   "cell_type": "markdown",
   "metadata": {
    "id": "Ui2_mZKUGSjC"
   },
   "source": [
    "Macro-averaged F1-score is the average mean of harmonic means of precision and recall of each class $$F1-macro = \\frac{1}{|C|} \\sum_{k \\in C} F1score_k = \\frac{1}{|C|} \\sum_{k \\in C} \\frac{2 P_k R_k}{P_k + R_k}$$"
   ]
  }
 ],
 "metadata": {
  "celltoolbar": "Slideshow",
  "kernelspec": {
   "display_name": "Python 3 (ipykernel)",
   "language": "python",
   "name": "python3"
  },
  "language_info": {
   "codemirror_mode": {
    "name": "ipython",
    "version": 3
   },
   "file_extension": ".py",
   "mimetype": "text/x-python",
   "name": "python",
   "nbconvert_exporter": "python",
   "pygments_lexer": "ipython3",
   "version": "3.9.7"
  },
  "rise": {
   "transition": "none"
  }
 },
 "nbformat": 4,
 "nbformat_minor": 2
}
